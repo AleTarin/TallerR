{
 "cells": [
  {
   "cell_type": "markdown",
   "metadata": {},
   "source": [
    "## Funciones utiles"
   ]
  },
  {
   "cell_type": "code",
   "execution_count": 4,
   "metadata": {},
   "outputs": [
    {
     "data": {
      "text/html": [
       "<ol class=list-inline>\n",
       "\t<li>'Clase 15-08-17.ipynb'</li>\n",
       "\t<li>'Conceptos basicos.ipynb'</li>\n",
       "</ol>\n"
      ],
      "text/latex": [
       "\\begin{enumerate*}\n",
       "\\item 'Clase 15-08-17.ipynb'\n",
       "\\item 'Conceptos basicos.ipynb'\n",
       "\\end{enumerate*}\n"
      ],
      "text/markdown": [
       "1. 'Clase 15-08-17.ipynb'\n",
       "2. 'Conceptos basicos.ipynb'\n",
       "\n",
       "\n"
      ],
      "text/plain": [
       "[1] \"Clase 15-08-17.ipynb\"    \"Conceptos basicos.ipynb\""
      ]
     },
     "metadata": {},
     "output_type": "display_data"
    },
    {
     "data": {
      "text/html": [
       "'C:/Users/a.de.la.cruz/Documents/tallerR/Notas'"
      ],
      "text/latex": [
       "'C:/Users/a.de.la.cruz/Documents/tallerR/Notas'"
      ],
      "text/markdown": [
       "'C:/Users/a.de.la.cruz/Documents/tallerR/Notas'"
      ],
      "text/plain": [
       "[1] \"C:/Users/a.de.la.cruz/Documents/tallerR/Notas\""
      ]
     },
     "metadata": {},
     "output_type": "display_data"
    },
    {
     "data": {
      "text/plain": [
       "NULL"
      ]
     },
     "metadata": {},
     "output_type": "display_data"
    },
    {
     "data": {
      "text/plain": [
       "NULL"
      ]
     },
     "metadata": {},
     "output_type": "display_data"
    }
   ],
   "source": [
    "#\n",
    "dir()\n",
    "\n",
    "getwd()\n",
    "\n",
    "setwd('C:/Users/a.de.la.cruz/Documents/tallerR/scripts')\n",
    "\n",
    "\n",
    "# Junta dos objetos y crea \n",
    "cbind()\n",
    "rbind()\n"
   ]
  },
  {
   "cell_type": "markdown",
   "metadata": {},
   "source": [
    "## DataFrame\n",
    "    Conjuntos de objetos de diferentes clases"
   ]
  },
  {
   "cell_type": "code",
   "execution_count": 1,
   "metadata": {
    "scrolled": false
   },
   "outputs": [
    {
     "data": {
      "text/html": [
       "'data.frame'"
      ],
      "text/latex": [
       "'data.frame'"
      ],
      "text/markdown": [
       "'data.frame'"
      ],
      "text/plain": [
       "[1] \"data.frame\""
      ]
     },
     "metadata": {},
     "output_type": "display_data"
    },
    {
     "name": "stdout",
     "output_type": "stream",
     "text": [
      "'data.frame':\t5 obs. of  2 variables:\n",
      " $ a: num  1 2 3 4 5\n",
      " $ b: Factor w/ 5 levels \"a\",\"b\",\"c\",\"d\",..: 1 2 3 4 5\n"
     ]
    },
    {
     "data": {
      "text/plain": [
       "a :  num [1:5] 1 2 3 4 5\n",
       "b :  Factor w/ 5 levels \"a\",\"b\",\"c\",\"d\",..: 1 2 3 4 5"
      ]
     },
     "metadata": {},
     "output_type": "display_data"
    },
    {
     "data": {
      "text/plain": [
       "       a     b    \n",
       " Min.   :1   a:1  \n",
       " 1st Qu.:2   b:1  \n",
       " Median :3   c:1  \n",
       " Mean   :3   d:1  \n",
       " 3rd Qu.:4   e:1  \n",
       " Max.   :5        "
      ]
     },
     "metadata": {},
     "output_type": "display_data"
    },
    {
     "data": {
      "text/html": [
       "<table>\n",
       "<thead><tr><th scope=col>a</th><th scope=col>b</th></tr></thead>\n",
       "<tbody>\n",
       "\t<tr><td>1</td><td>a</td></tr>\n",
       "\t<tr><td>2</td><td>b</td></tr>\n",
       "\t<tr><td>3</td><td>c</td></tr>\n",
       "\t<tr><td>4</td><td>d</td></tr>\n",
       "\t<tr><td>5</td><td>e</td></tr>\n",
       "</tbody>\n",
       "</table>\n"
      ],
      "text/latex": [
       "\\begin{tabular}{r|ll}\n",
       " a & b\\\\\n",
       "\\hline\n",
       "\t 1 & a\\\\\n",
       "\t 2 & b\\\\\n",
       "\t 3 & c\\\\\n",
       "\t 4 & d\\\\\n",
       "\t 5 & e\\\\\n",
       "\\end{tabular}\n"
      ],
      "text/markdown": [
       "\n",
       "a | b | \n",
       "|---|---|---|---|---|\n",
       "| 1 | a | \n",
       "| 2 | b | \n",
       "| 3 | c | \n",
       "| 4 | d | \n",
       "| 5 | e | \n",
       "\n",
       "\n"
      ],
      "text/plain": [
       "  a b\n",
       "1 1 a\n",
       "2 2 b\n",
       "3 3 c\n",
       "4 4 d\n",
       "5 5 e"
      ]
     },
     "metadata": {},
     "output_type": "display_data"
    },
    {
     "name": "stdout",
     "output_type": "stream",
     "text": [
      "[1] \"Actividad 3\"\n"
     ]
    },
    {
     "data": {
      "text/html": [
       "<table>\n",
       "<thead><tr><th scope=col>Semestre</th><th scope=col>Ano</th><th scope=col>Materia</th><th scope=col>Calificacion</th></tr></thead>\n",
       "<tbody>\n",
       "\t<tr><td>4                             </td><td>2016                          </td><td>Expr verbal en ?mbito profes  </td><td> 95                           </td></tr>\n",
       "\t<tr><td>4                             </td><td>2016                          </td><td>Bases de datos                </td><td> 87                           </td></tr>\n",
       "\t<tr><td>4                             </td><td>2016                          </td><td>Proyecto desarrollo de videoj </td><td> 89                           </td></tr>\n",
       "\t<tr><td>4                             </td><td>2016                          </td><td>An?lisis y dise?o de algoritm </td><td> 85                           </td></tr>\n",
       "\t<tr><td>4                             </td><td>2016                          </td><td>Fundamentos de redes          </td><td> 92                           </td></tr>\n",
       "\t<tr><td>4                             </td><td>2016                          </td><td>M?todos num?ricos en ing      </td><td> 92                           </td></tr>\n",
       "\t<tr><td>5                             </td><td>2017                          </td><td>Humanidades y bellas artes    </td><td> 99                           </td></tr>\n",
       "\t<tr><td>5                             </td><td>2017                          </td><td>?lgebra lineal                </td><td> 91                           </td></tr>\n",
       "\t<tr><td>5                             </td><td>2017                          </td><td>An?lis y mod de sist softw    </td><td> 86                           </td></tr>\n",
       "\t<tr><td>5                             </td><td>2017                          </td><td>Sistemas operativos           </td><td> 89                           </td></tr>\n",
       "\t<tr><td>5                             </td><td>2017                          </td><td>Matem?ticas computacionales   </td><td> 91                           </td></tr>\n",
       "\t<tr><td>5                             </td><td>2017                          </td><td>Interconexi?n de redes        </td><td>100                           </td></tr>\n",
       "\t<tr><td>6                             </td><td>2017                          </td><td>Emprendimiento                </td><td> 81                           </td></tr>\n",
       "\t<tr><td>6                             </td><td>2017                          </td><td>Proy de desarrollo para disp m</td><td> 97                           </td></tr>\n",
       "\t<tr><td>6                             </td><td>2017                          </td><td>Programaci?n avanzada         </td><td> 89                           </td></tr>\n",
       "\t<tr><td>6                             </td><td>2017                          </td><td>Bases de datos avanzadas      </td><td> 97                           </td></tr>\n",
       "\t<tr><td>6                             </td><td>2017                          </td><td>Calidad y pruebas de software </td><td> 84                           </td></tr>\n",
       "\t<tr><td>6                             </td><td>2017                          </td><td>Evaluaci?n y adm de proyectos </td><td> 90                           </td></tr>\n",
       "\t<tr><td>7                             </td><td>2018                          </td><td>Ciudadan?a                    </td><td> 89                           </td></tr>\n",
       "\t<tr><td>7                             </td><td>2018                          </td><td>Lenguajes de programaci?n     </td><td> 87                           </td></tr>\n",
       "\t<tr><td>7                             </td><td>2018                          </td><td>Desarrollo de aplicaciones web</td><td> 92                           </td></tr>\n",
       "\t<tr><td>7                             </td><td>2018                          </td><td>Seguridad inform?tica         </td><td> 99                           </td></tr>\n",
       "\t<tr><td>7                             </td><td>2018                          </td><td>Adm?n de proy ingenier?a de sw</td><td> 88                           </td></tr>\n",
       "\t<tr><td>7                             </td><td>2018                          </td><td>Animacion                     </td><td> 84                           </td></tr>\n",
       "</tbody>\n",
       "</table>\n"
      ],
      "text/latex": [
       "\\begin{tabular}{r|llll}\n",
       " Semestre & Ano & Materia & Calificacion\\\\\n",
       "\\hline\n",
       "\t 4                              & 2016                           & Expr verbal en ?mbito profes   &  95                           \\\\\n",
       "\t 4                              & 2016                           & Bases de datos                 &  87                           \\\\\n",
       "\t 4                              & 2016                           & Proyecto desarrollo de videoj  &  89                           \\\\\n",
       "\t 4                              & 2016                           & An?lisis y dise?o de algoritm  &  85                           \\\\\n",
       "\t 4                              & 2016                           & Fundamentos de redes           &  92                           \\\\\n",
       "\t 4                              & 2016                           & M?todos num?ricos en ing       &  92                           \\\\\n",
       "\t 5                              & 2017                           & Humanidades y bellas artes     &  99                           \\\\\n",
       "\t 5                              & 2017                           & ?lgebra lineal                 &  91                           \\\\\n",
       "\t 5                              & 2017                           & An?lis y mod de sist softw     &  86                           \\\\\n",
       "\t 5                              & 2017                           & Sistemas operativos            &  89                           \\\\\n",
       "\t 5                              & 2017                           & Matem?ticas computacionales    &  91                           \\\\\n",
       "\t 5                              & 2017                           & Interconexi?n de redes         & 100                           \\\\\n",
       "\t 6                              & 2017                           & Emprendimiento                 &  81                           \\\\\n",
       "\t 6                              & 2017                           & Proy de desarrollo para disp m &  97                           \\\\\n",
       "\t 6                              & 2017                           & Programaci?n avanzada          &  89                           \\\\\n",
       "\t 6                              & 2017                           & Bases de datos avanzadas       &  97                           \\\\\n",
       "\t 6                              & 2017                           & Calidad y pruebas de software  &  84                           \\\\\n",
       "\t 6                              & 2017                           & Evaluaci?n y adm de proyectos  &  90                           \\\\\n",
       "\t 7                              & 2018                           & Ciudadan?a                     &  89                           \\\\\n",
       "\t 7                              & 2018                           & Lenguajes de programaci?n      &  87                           \\\\\n",
       "\t 7                              & 2018                           & Desarrollo de aplicaciones web &  92                           \\\\\n",
       "\t 7                              & 2018                           & Seguridad inform?tica          &  99                           \\\\\n",
       "\t 7                              & 2018                           & Adm?n de proy ingenier?a de sw &  88                           \\\\\n",
       "\t 7                              & 2018                           & Animacion                      &  84                           \\\\\n",
       "\\end{tabular}\n"
      ],
      "text/markdown": [
       "\n",
       "Semestre | Ano | Materia | Calificacion | \n",
       "|---|---|---|---|---|---|---|---|---|---|---|---|---|---|---|---|---|---|---|---|---|---|---|---|\n",
       "| 4                              | 2016                           | Expr verbal en ?mbito profes   |  95                            | \n",
       "| 4                              | 2016                           | Bases de datos                 |  87                            | \n",
       "| 4                              | 2016                           | Proyecto desarrollo de videoj  |  89                            | \n",
       "| 4                              | 2016                           | An?lisis y dise?o de algoritm  |  85                            | \n",
       "| 4                              | 2016                           | Fundamentos de redes           |  92                            | \n",
       "| 4                              | 2016                           | M?todos num?ricos en ing       |  92                            | \n",
       "| 5                              | 2017                           | Humanidades y bellas artes     |  99                            | \n",
       "| 5                              | 2017                           | ?lgebra lineal                 |  91                            | \n",
       "| 5                              | 2017                           | An?lis y mod de sist softw     |  86                            | \n",
       "| 5                              | 2017                           | Sistemas operativos            |  89                            | \n",
       "| 5                              | 2017                           | Matem?ticas computacionales    |  91                            | \n",
       "| 5                              | 2017                           | Interconexi?n de redes         | 100                            | \n",
       "| 6                              | 2017                           | Emprendimiento                 |  81                            | \n",
       "| 6                              | 2017                           | Proy de desarrollo para disp m |  97                            | \n",
       "| 6                              | 2017                           | Programaci?n avanzada          |  89                            | \n",
       "| 6                              | 2017                           | Bases de datos avanzadas       |  97                            | \n",
       "| 6                              | 2017                           | Calidad y pruebas de software  |  84                            | \n",
       "| 6                              | 2017                           | Evaluaci?n y adm de proyectos  |  90                            | \n",
       "| 7                              | 2018                           | Ciudadan?a                     |  89                            | \n",
       "| 7                              | 2018                           | Lenguajes de programaci?n      |  87                            | \n",
       "| 7                              | 2018                           | Desarrollo de aplicaciones web |  92                            | \n",
       "| 7                              | 2018                           | Seguridad inform?tica          |  99                            | \n",
       "| 7                              | 2018                           | Adm?n de proy ingenier?a de sw |  88                            | \n",
       "| 7                              | 2018                           | Animacion                      |  84                            | \n",
       "\n",
       "\n"
      ],
      "text/plain": [
       "   Semestre Ano  Materia                        Calificacion\n",
       "1  4        2016 Expr verbal en ?mbito profes    95         \n",
       "2  4        2016 Bases de datos                  87         \n",
       "3  4        2016 Proyecto desarrollo de videoj   89         \n",
       "4  4        2016 An?lisis y dise?o de algoritm   85         \n",
       "5  4        2016 Fundamentos de redes            92         \n",
       "6  4        2016 M?todos num?ricos en ing        92         \n",
       "7  5        2017 Humanidades y bellas artes      99         \n",
       "8  5        2017 ?lgebra lineal                  91         \n",
       "9  5        2017 An?lis y mod de sist softw      86         \n",
       "10 5        2017 Sistemas operativos             89         \n",
       "11 5        2017 Matem?ticas computacionales     91         \n",
       "12 5        2017 Interconexi?n de redes         100         \n",
       "13 6        2017 Emprendimiento                  81         \n",
       "14 6        2017 Proy de desarrollo para disp m  97         \n",
       "15 6        2017 Programaci?n avanzada           89         \n",
       "16 6        2017 Bases de datos avanzadas        97         \n",
       "17 6        2017 Calidad y pruebas de software   84         \n",
       "18 6        2017 Evaluaci?n y adm de proyectos   90         \n",
       "19 7        2018 Ciudadan?a                      89         \n",
       "20 7        2018 Lenguajes de programaci?n       87         \n",
       "21 7        2018 Desarrollo de aplicaciones web  92         \n",
       "22 7        2018 Seguridad inform?tica           99         \n",
       "23 7        2018 Adm?n de proy ingenier?a de sw  88         \n",
       "24 7        2018 Animacion                       84         "
      ]
     },
     "metadata": {},
     "output_type": "display_data"
    }
   ],
   "source": [
    "a <- c (1,2,3,4,5)\n",
    "b <- c('a', 'b', 'c', 'd', 'e')\n",
    "\n",
    "df <- data.frame(a ,b)\n",
    "\n",
    "# Datos de df\n",
    "class(df)\n",
    "str(df)\n",
    "ls.str(df)\n",
    "summary(df)\n",
    "\n",
    "# Ejecutar Dataframe\n",
    "df\n",
    "\n",
    "#Dataframe\n",
    "setwd('C:/Users/a.de.la.cruz/Documents/tallerR/scripts')\n",
    "\n",
    "\n",
    "#Actividad 3\n",
    "Semestre     <- rep(c(4:7), each = 6)\n",
    "Ano          <- rep(c(2016:2018), times = c(6,12,6))\n",
    "Materia      <- c('Expr verbal en ?mbito profes','Bases de datos','Proyecto desarrollo de videoj','An?lisis y dise?o de algoritm','Fundamentos de redes','M?todos num?ricos en ing',\n",
    "                  'Humanidades y bellas artes','?lgebra lineal','An?lis y mod de sist softw','Sistemas operativos','Matem?ticas computacionales','Interconexi?n de redes',\n",
    "                  'Emprendimiento','Proy de desarrollo para disp m','Programaci?n avanzada','Bases de datos avanzadas','Calidad y pruebas de software','Evaluaci?n y adm de proyectos',\n",
    "                  'Ciudadan?a','Lenguajes de programaci?n','Desarrollo de aplicaciones web','Seguridad inform?tica','Adm?n de proy ingenier?a de sw', 'Animacion')\n",
    "Calificacion <- c(95,87,89,85,92,92,\n",
    "                  99,91,86,89,91,100,\n",
    "                  81,97,89,97,84,90,\n",
    "                  89,87,92,99,88,84)\n",
    "\n",
    "df <- data.frame(Semestre, Ano, Materia, Calificacion)\n",
    "df\n",
    "\n"
   ]
  },
  {
   "cell_type": "markdown",
   "metadata": {},
   "source": [
    "## Numeros\n",
    "\n",
    "    - Para integer se debe especificar seguido de la letra R\n",
    "    "
   ]
  },
  {
   "cell_type": "markdown",
   "metadata": {},
   "source": [
    "## Vectores\n",
    "    - uso de la funcion factor()"
   ]
  },
  {
   "cell_type": "code",
   "execution_count": 4,
   "metadata": {},
   "outputs": [
    {
     "data": {
      "text/html": [
       "<ol class=list-inline>\n",
       "\t<li>'Semestre'</li>\n",
       "\t<li>'Anio'</li>\n",
       "\t<li>'Materia'</li>\n",
       "\t<li>'Calificacion'</li>\n",
       "</ol>\n"
      ],
      "text/latex": [
       "\\begin{enumerate*}\n",
       "\\item 'Semestre'\n",
       "\\item 'Anio'\n",
       "\\item 'Materia'\n",
       "\\item 'Calificacion'\n",
       "\\end{enumerate*}\n"
      ],
      "text/markdown": [
       "1. 'Semestre'\n",
       "2. 'Anio'\n",
       "3. 'Materia'\n",
       "4. 'Calificacion'\n",
       "\n",
       "\n"
      ],
      "text/plain": [
       "[1] \"Semestre\"     \"Anio\"         \"Materia\"      \"Calificacion\""
      ]
     },
     "metadata": {},
     "output_type": "display_data"
    },
    {
     "data": {
      "text/html": [
       "<ol class=list-inline>\n",
       "\t<li>'1'</li>\n",
       "\t<li>'2'</li>\n",
       "\t<li>'3'</li>\n",
       "\t<li>'4'</li>\n",
       "\t<li>'5'</li>\n",
       "\t<li>'6'</li>\n",
       "\t<li>'7'</li>\n",
       "\t<li>'8'</li>\n",
       "\t<li>'9'</li>\n",
       "\t<li>'10'</li>\n",
       "\t<li>'11'</li>\n",
       "\t<li>'12'</li>\n",
       "\t<li>'13'</li>\n",
       "\t<li>'14'</li>\n",
       "\t<li>'15'</li>\n",
       "\t<li>'16'</li>\n",
       "\t<li>'17'</li>\n",
       "\t<li>'18'</li>\n",
       "\t<li>'19'</li>\n",
       "\t<li>'20'</li>\n",
       "\t<li>'21'</li>\n",
       "\t<li>'22'</li>\n",
       "\t<li>'23'</li>\n",
       "\t<li>'24'</li>\n",
       "</ol>\n"
      ],
      "text/latex": [
       "\\begin{enumerate*}\n",
       "\\item '1'\n",
       "\\item '2'\n",
       "\\item '3'\n",
       "\\item '4'\n",
       "\\item '5'\n",
       "\\item '6'\n",
       "\\item '7'\n",
       "\\item '8'\n",
       "\\item '9'\n",
       "\\item '10'\n",
       "\\item '11'\n",
       "\\item '12'\n",
       "\\item '13'\n",
       "\\item '14'\n",
       "\\item '15'\n",
       "\\item '16'\n",
       "\\item '17'\n",
       "\\item '18'\n",
       "\\item '19'\n",
       "\\item '20'\n",
       "\\item '21'\n",
       "\\item '22'\n",
       "\\item '23'\n",
       "\\item '24'\n",
       "\\end{enumerate*}\n"
      ],
      "text/markdown": [
       "1. '1'\n",
       "2. '2'\n",
       "3. '3'\n",
       "4. '4'\n",
       "5. '5'\n",
       "6. '6'\n",
       "7. '7'\n",
       "8. '8'\n",
       "9. '9'\n",
       "10. '10'\n",
       "11. '11'\n",
       "12. '12'\n",
       "13. '13'\n",
       "14. '14'\n",
       "15. '15'\n",
       "16. '16'\n",
       "17. '17'\n",
       "18. '18'\n",
       "19. '19'\n",
       "20. '20'\n",
       "21. '21'\n",
       "22. '22'\n",
       "23. '23'\n",
       "24. '24'\n",
       "\n",
       "\n"
      ],
      "text/plain": [
       " [1] \"1\"  \"2\"  \"3\"  \"4\"  \"5\"  \"6\"  \"7\"  \"8\"  \"9\"  \"10\" \"11\" \"12\" \"13\" \"14\" \"15\"\n",
       "[16] \"16\" \"17\" \"18\" \"19\" \"20\" \"21\" \"22\" \"23\" \"24\""
      ]
     },
     "metadata": {},
     "output_type": "display_data"
    },
    {
     "data": {
      "text/html": [
       "<ol class=list-inline>\n",
       "\t<li>24</li>\n",
       "\t<li>4</li>\n",
       "</ol>\n"
      ],
      "text/latex": [
       "\\begin{enumerate*}\n",
       "\\item 24\n",
       "\\item 4\n",
       "\\end{enumerate*}\n"
      ],
      "text/markdown": [
       "1. 24\n",
       "2. 4\n",
       "\n",
       "\n"
      ],
      "text/plain": [
       "[1] 24  4"
      ]
     },
     "metadata": {},
     "output_type": "display_data"
    },
    {
     "data": {
      "text/html": [
       "4"
      ],
      "text/latex": [
       "4"
      ],
      "text/markdown": [
       "4"
      ],
      "text/plain": [
       "[1] 4"
      ]
     },
     "metadata": {},
     "output_type": "display_data"
    },
    {
     "data": {
      "text/html": [
       "24"
      ],
      "text/latex": [
       "24"
      ],
      "text/markdown": [
       "24"
      ],
      "text/plain": [
       "[1] 24"
      ]
     },
     "metadata": {},
     "output_type": "display_data"
    }
   ],
   "source": [
    "#Columnas\n",
    "colnames(df) <- c('Semestre', 'Anio', 'Materia', 'Calificacion')\n",
    "names(df)\n",
    "\n",
    "#Renglones\n",
    "rownames(df)\n",
    "\n",
    "#Numero de columnas y renglones\n",
    "dim(df)\n",
    "\n",
    "# Individual\n",
    "\n",
    "ncol(df)\n",
    "nrow(df)\n"
   ]
  },
  {
   "cell_type": "markdown",
   "metadata": {},
   "source": [
    "## Leer archivos"
   ]
  },
  {
   "cell_type": "code",
   "execution_count": 5,
   "metadata": {},
   "outputs": [
    {
     "data": {
      "text/html": [
       "<ol class=list-inline>\n",
       "\t<li>'InfoAcad_EM11_subset.csv'</li>\n",
       "\t<li>'InfoAcad_excel.xlsx'</li>\n",
       "</ol>\n"
      ],
      "text/latex": [
       "\\begin{enumerate*}\n",
       "\\item 'InfoAcad\\_EM11\\_subset.csv'\n",
       "\\item 'InfoAcad\\_excel.xlsx'\n",
       "\\end{enumerate*}\n"
      ],
      "text/markdown": [
       "1. 'InfoAcad_EM11_subset.csv'\n",
       "2. 'InfoAcad_excel.xlsx'\n",
       "\n",
       "\n"
      ],
      "text/plain": [
       "[1] \"InfoAcad_EM11_subset.csv\" \"InfoAcad_excel.xlsx\"     "
      ]
     },
     "metadata": {},
     "output_type": "display_data"
    }
   ],
   "source": [
    "# Set directory to read the datasets folder\n",
    "setwd('C:/Users/a.de.la.cruz/Documents/tallerR/datasets')\n",
    "dir()\n"
   ]
  },
  {
   "cell_type": "code",
   "execution_count": 12,
   "metadata": {},
   "outputs": [
    {
     "data": {
      "text/html": [
       "<ol class=list-inline>\n",
       "\t<li>75209</li>\n",
       "\t<li>22</li>\n",
       "</ol>\n"
      ],
      "text/latex": [
       "\\begin{enumerate*}\n",
       "\\item 75209\n",
       "\\item 22\n",
       "\\end{enumerate*}\n"
      ],
      "text/markdown": [
       "1. 75209\n",
       "2. 22\n",
       "\n",
       "\n"
      ],
      "text/plain": [
       "[1] 75209    22"
      ]
     },
     "metadata": {},
     "output_type": "display_data"
    },
    {
     "name": "stdout",
     "output_type": "stream",
     "text": [
      "'data.frame':\t75209 obs. of  22 variables:\n",
      " $ PeriodoAdmision: int  200513 200513 200513 200513 197913 200513 200513 200511 200512 200513 ...\n",
      " $ PeriodoAcad    : int  200513 200513 200513 200513 200513 200513 200513 200513 200513 200513 ...\n",
      " $ Inscrito       : Factor w/ 2 levels \"N\",\"S\": 1 1 2 1 2 1 1 1 1 1 ...\n",
      " $ TerminoIns     : Factor w/ 2 levels \"N\",\"S\": 1 1 2 1 2 1 1 1 1 1 ...\n",
      " $ IdAlumno       : Factor w/ 31282 levels \"A10204\",\"A10718\",..: 2 3 7 8 9 10 11 12 13 14 ...\n",
      " $ idCarrera      : Factor w/ 48 levels \"CARR1\",\"CARR103\",..: 39 39 26 39 12 39 39 11 43 39 ...\n",
      " $ Semestre       : Factor w/ 14 levels \" \",\"1\",\"10\",\"2\",..: 2 2 2 2 5 2 2 13 10 2 ...\n",
      " $ PrepaPrivada   : int  1 1 0 0 0 0 0 0 0 0 ...\n",
      " $ PromPrepa      : Factor w/ 3197 levels \"\",\"0\",\"1\",\"10\",..: 2109 1 928 1 1282 1 1 1104 2336 1 ...\n",
      " $ PromSecu       : Factor w/ 155 levels \"\",\"###\",\"0\",\"1\",..: 6 1 99 1 124 1 1 142 1 1 ...\n",
      " $ Toefl          : int  NA NA 553 NA NA NA NA NA NA NA ...\n",
      " $ PromedioAcum   : num  0 0 93.7 0 94.6 ...\n",
      " $ MatRepAcum     : int  0 0 0 0 0 0 0 0 17 0 ...\n",
      " $ MatRepPeriodo  : int  0 0 0 0 0 0 0 0 0 0 ...\n",
      " $ MatAprAcum     : int  0 0 6 0 21 0 0 1 49 0 ...\n",
      " $ MatAprPeriodo  : int  0 0 6 0 4 0 0 0 0 0 ...\n",
      " $ PtjeAdmision   : int  1600 NA 1420 NA NA NA NA NA NA NA ...\n",
      " $ PromPeriodo    : num  0 0 93.7 0 96.8 ...\n",
      " $ Genero         : Factor w/ 2 levels \"F\",\"M\": 2 2 2 2 1 2 2 2 1 2 ...\n",
      " $ AñoNac         : int  1899 1929 1983 1958 1961 1960 1962 1964 1964 1964 ...\n",
      " $ MesNac         : int  12 8 4 5 6 1 10 1 9 9 ...\n",
      " $ DiaNac         : int  31 29 22 29 1 30 10 31 24 27 ...\n"
     ]
    },
    {
     "data": {
      "text/plain": [
       " PeriodoAdmision   PeriodoAcad     Inscrito  TerminoIns    IdAlumno    \n",
       " Min.   :197913   Min.   :200513   N: 7406   N: 8071    A10764 :    4  \n",
       " 1st Qu.:200411   1st Qu.:200513   S:67803   S:67138    A13610 :    4  \n",
       " Median :200513   Median :200613                        A13743 :    4  \n",
       " Mean   :200510   Mean   :200658                        A14738 :    4  \n",
       " 3rd Qu.:200711   3rd Qu.:200713                        A15238 :    4  \n",
       " Max.   :200913   Max.   :200913                        A15243 :    4  \n",
       "                                                        (Other):75185  \n",
       "   idCarrera        Semestre      PrepaPrivada      PromPrepa    \n",
       " CARR62 : 8420   1      :16349   Min.   :0.0000   80     : 3069  \n",
       " CARR103: 5940   3      : 8398   1st Qu.:0.0000   85     : 2864  \n",
       " CARR66 : 5236   5      : 7865   Median :0.0000   82     : 2854  \n",
       " CARR85 : 4948   9      : 7508   Mean   :0.4665   86     : 2778  \n",
       " CARR84 : 4818   2      : 7458   3rd Qu.:1.0000   90     : 2738  \n",
       " CARR2  : 4634   7      : 7384   Max.   :1.0000   84     : 2717  \n",
       " (Other):41213   (Other):20247                    (Other):58189  \n",
       "    PromSecu         Toefl       PromedioAcum      MatRepAcum    \n",
       " 90     : 2972   Min.   : 23    Min.   :  0.00   Min.   : 0.000  \n",
       " 98     : 2885   1st Qu.:517    1st Qu.: 76.44   1st Qu.: 0.000  \n",
       " 92     : 2802   Median :560    Median : 82.33   Median : 1.000  \n",
       " 91     : 2798   Mean   :552    Mean   : 76.79   Mean   : 2.717  \n",
       " 94     : 2742   3rd Qu.:597    3rd Qu.: 87.67   3rd Qu.: 4.000  \n",
       " 96     : 2736   Max.   :705    Max.   :100.00   Max.   :42.000  \n",
       " (Other):58274   NA's   :4349                                    \n",
       " MatRepPeriodo     MatAprAcum     MatAprPeriodo     PtjeAdmision \n",
       " Min.   :0.000   Min.   :  0.00   Min.   : 0.000   Min.   :   0  \n",
       " 1st Qu.:0.000   1st Qu.: 13.00   1st Qu.: 0.000   1st Qu.:1193  \n",
       " Median :0.000   Median : 29.00   Median : 5.000   Median :1278  \n",
       " Mean   :0.284   Mean   : 29.15   Mean   : 3.642   Mean   :1270  \n",
       " 3rd Qu.:0.000   3rd Qu.: 44.00   3rd Qu.: 6.000   3rd Qu.:1363  \n",
       " Max.   :7.000   Max.   :110.00   Max.   :11.000   Max.   :1600  \n",
       "                                                   NA's   :2450  \n",
       "  PromPeriodo     Genero        AñoNac         MesNac           DiaNac     \n",
       " Min.   :  0.00   F:28941   Min.   :1899   Min.   : 1.000   Min.   : 1.00  \n",
       " 1st Qu.:  0.00   M:46268   1st Qu.:1984   1st Qu.: 4.000   1st Qu.: 8.00  \n",
       " Median : 79.40             Median :1986   Median : 7.000   Median :16.00  \n",
       " Mean   : 57.59             Mean   :1986   Mean   : 6.608   Mean   :15.71  \n",
       " 3rd Qu.: 87.28             3rd Qu.:1987   3rd Qu.:10.000   3rd Qu.:23.00  \n",
       " Max.   :100.00             Max.   :2008   Max.   :12.000   Max.   :31.00  \n",
       "                                                                           "
      ]
     },
     "metadata": {},
     "output_type": "display_data"
    },
    {
     "data": {
      "text/html": [
       "<table>\n",
       "<thead><tr><th scope=col>PeriodoAdmision</th><th scope=col>PeriodoAcad</th><th scope=col>Inscrito</th><th scope=col>TerminoIns</th><th scope=col>IdAlumno</th><th scope=col>idCarrera</th><th scope=col>Semestre</th><th scope=col>PrepaPrivada</th><th scope=col>PromPrepa</th><th scope=col>PromSecu</th><th scope=col>...</th><th scope=col>MatRepAcum</th><th scope=col>MatRepPeriodo</th><th scope=col>MatAprAcum</th><th scope=col>MatAprPeriodo</th><th scope=col>PtjeAdmision</th><th scope=col>PromPeriodo</th><th scope=col>Genero</th><th scope=col>AñoNac</th><th scope=col>MesNac</th><th scope=col>DiaNac</th></tr></thead>\n",
       "<tbody>\n",
       "\t<tr><td>200513</td><td>200513</td><td>N     </td><td>N     </td><td>A10718</td><td>CARR84</td><td>1     </td><td>1     </td><td>85    </td><td>10    </td><td>...   </td><td>0     </td><td>0     </td><td> 0    </td><td>0     </td><td>1600  </td><td> 0.000</td><td>M     </td><td>1899  </td><td>12    </td><td>31    </td></tr>\n",
       "\t<tr><td>200513</td><td>200513</td><td>N     </td><td>N     </td><td>A10720</td><td>CARR84</td><td>1     </td><td>1     </td><td>      </td><td>      </td><td>...   </td><td>0     </td><td>0     </td><td> 0    </td><td>0     </td><td>  NA  </td><td> 0.000</td><td>M     </td><td>1929  </td><td> 8    </td><td>29    </td></tr>\n",
       "\t<tr><td>200513</td><td>200513</td><td>S     </td><td>S     </td><td>A10764</td><td>CARR66</td><td>1     </td><td>0     </td><td>78    </td><td>82    </td><td>...   </td><td>0     </td><td>0     </td><td> 6    </td><td>6     </td><td>1420  </td><td>93.666</td><td>M     </td><td>1983  </td><td> 4    </td><td>22    </td></tr>\n",
       "\t<tr><td>200513</td><td>200513</td><td>N     </td><td>N     </td><td>A10767</td><td>CARR84</td><td>1     </td><td>0     </td><td>      </td><td>      </td><td>...   </td><td>0     </td><td>0     </td><td> 0    </td><td>0     </td><td>  NA  </td><td> 0.000</td><td>M     </td><td>1958  </td><td> 5    </td><td>29    </td></tr>\n",
       "\t<tr><td>197913</td><td>200513</td><td>S     </td><td>S     </td><td>A11766</td><td>CARR42</td><td>3     </td><td>0     </td><td>8     </td><td>9.6   </td><td>...   </td><td>0     </td><td>0     </td><td>21    </td><td>4     </td><td>  NA  </td><td>96.750</td><td>F     </td><td>1961  </td><td> 6    </td><td> 1    </td></tr>\n",
       "\t<tr><td>200513</td><td>200513</td><td>N     </td><td>N     </td><td>A11782</td><td>CARR84</td><td>1     </td><td>0     </td><td>      </td><td>      </td><td>...   </td><td>0     </td><td>0     </td><td> 0    </td><td>0     </td><td>  NA  </td><td> 0.000</td><td>M     </td><td>1960  </td><td> 1    </td><td>30    </td></tr>\n",
       "</tbody>\n",
       "</table>\n"
      ],
      "text/latex": [
       "\\begin{tabular}{r|llllllllllllllllllllll}\n",
       " PeriodoAdmision & PeriodoAcad & Inscrito & TerminoIns & IdAlumno & idCarrera & Semestre & PrepaPrivada & PromPrepa & PromSecu & ... & MatRepAcum & MatRepPeriodo & MatAprAcum & MatAprPeriodo & PtjeAdmision & PromPeriodo & Genero & AñoNac & MesNac & DiaNac\\\\\n",
       "\\hline\n",
       "\t 200513 & 200513 & N      & N      & A10718 & CARR84 & 1      & 1      & 85     & 10     & ...    & 0      & 0      &  0     & 0      & 1600   &  0.000 & M      & 1899   & 12     & 31    \\\\\n",
       "\t 200513 & 200513 & N      & N      & A10720 & CARR84 & 1      & 1      &        &        & ...    & 0      & 0      &  0     & 0      &   NA   &  0.000 & M      & 1929   &  8     & 29    \\\\\n",
       "\t 200513 & 200513 & S      & S      & A10764 & CARR66 & 1      & 0      & 78     & 82     & ...    & 0      & 0      &  6     & 6      & 1420   & 93.666 & M      & 1983   &  4     & 22    \\\\\n",
       "\t 200513 & 200513 & N      & N      & A10767 & CARR84 & 1      & 0      &        &        & ...    & 0      & 0      &  0     & 0      &   NA   &  0.000 & M      & 1958   &  5     & 29    \\\\\n",
       "\t 197913 & 200513 & S      & S      & A11766 & CARR42 & 3      & 0      & 8      & 9.6    & ...    & 0      & 0      & 21     & 4      &   NA   & 96.750 & F      & 1961   &  6     &  1    \\\\\n",
       "\t 200513 & 200513 & N      & N      & A11782 & CARR84 & 1      & 0      &        &        & ...    & 0      & 0      &  0     & 0      &   NA   &  0.000 & M      & 1960   &  1     & 30    \\\\\n",
       "\\end{tabular}\n"
      ],
      "text/markdown": [
       "\n",
       "PeriodoAdmision | PeriodoAcad | Inscrito | TerminoIns | IdAlumno | idCarrera | Semestre | PrepaPrivada | PromPrepa | PromSecu | ... | MatRepAcum | MatRepPeriodo | MatAprAcum | MatAprPeriodo | PtjeAdmision | PromPeriodo | Genero | AñoNac | MesNac | DiaNac | \n",
       "|---|---|---|---|---|---|\n",
       "| 200513 | 200513 | N      | N      | A10718 | CARR84 | 1      | 1      | 85     | 10     | ...    | 0      | 0      |  0     | 0      | 1600   |  0.000 | M      | 1899   | 12     | 31     | \n",
       "| 200513 | 200513 | N      | N      | A10720 | CARR84 | 1      | 1      |        |        | ...    | 0      | 0      |  0     | 0      |   NA   |  0.000 | M      | 1929   |  8     | 29     | \n",
       "| 200513 | 200513 | S      | S      | A10764 | CARR66 | 1      | 0      | 78     | 82     | ...    | 0      | 0      |  6     | 6      | 1420   | 93.666 | M      | 1983   |  4     | 22     | \n",
       "| 200513 | 200513 | N      | N      | A10767 | CARR84 | 1      | 0      |        |        | ...    | 0      | 0      |  0     | 0      |   NA   |  0.000 | M      | 1958   |  5     | 29     | \n",
       "| 197913 | 200513 | S      | S      | A11766 | CARR42 | 3      | 0      | 8      | 9.6    | ...    | 0      | 0      | 21     | 4      |   NA   | 96.750 | F      | 1961   |  6     |  1     | \n",
       "| 200513 | 200513 | N      | N      | A11782 | CARR84 | 1      | 0      |        |        | ...    | 0      | 0      |  0     | 0      |   NA   |  0.000 | M      | 1960   |  1     | 30     | \n",
       "\n",
       "\n"
      ],
      "text/plain": [
       "  PeriodoAdmision PeriodoAcad Inscrito TerminoIns IdAlumno idCarrera Semestre\n",
       "1 200513          200513      N        N          A10718   CARR84    1       \n",
       "2 200513          200513      N        N          A10720   CARR84    1       \n",
       "3 200513          200513      S        S          A10764   CARR66    1       \n",
       "4 200513          200513      N        N          A10767   CARR84    1       \n",
       "5 197913          200513      S        S          A11766   CARR42    3       \n",
       "6 200513          200513      N        N          A11782   CARR84    1       \n",
       "  PrepaPrivada PromPrepa PromSecu ... MatRepAcum MatRepPeriodo MatAprAcum\n",
       "1 1            85        10       ... 0          0              0        \n",
       "2 1                               ... 0          0              0        \n",
       "3 0            78        82       ... 0          0              6        \n",
       "4 0                               ... 0          0              0        \n",
       "5 0            8         9.6      ... 0          0             21        \n",
       "6 0                               ... 0          0              0        \n",
       "  MatAprPeriodo PtjeAdmision PromPeriodo Genero AñoNac MesNac DiaNac\n",
       "1 0             1600          0.000      M      1899   12     31    \n",
       "2 0               NA          0.000      M      1929    8     29    \n",
       "3 6             1420         93.666      M      1983    4     22    \n",
       "4 0               NA          0.000      M      1958    5     29    \n",
       "5 4               NA         96.750      F      1961    6      1    \n",
       "6 0               NA          0.000      M      1960    1     30    "
      ]
     },
     "metadata": {},
     "output_type": "display_data"
    },
    {
     "data": {
      "text/html": [
       "<ol class=list-inline>\n",
       "\t<li>200513</li>\n",
       "\t<li>200513</li>\n",
       "\t<li>200513</li>\n",
       "\t<li>200513</li>\n",
       "\t<li>197913</li>\n",
       "\t<li>200513</li>\n",
       "</ol>\n"
      ],
      "text/latex": [
       "\\begin{enumerate*}\n",
       "\\item 200513\n",
       "\\item 200513\n",
       "\\item 200513\n",
       "\\item 200513\n",
       "\\item 197913\n",
       "\\item 200513\n",
       "\\end{enumerate*}\n"
      ],
      "text/markdown": [
       "1. 200513\n",
       "2. 200513\n",
       "3. 200513\n",
       "4. 200513\n",
       "5. 197913\n",
       "6. 200513\n",
       "\n",
       "\n"
      ],
      "text/plain": [
       "[1] 200513 200513 200513 200513 197913 200513"
      ]
     },
     "metadata": {},
     "output_type": "display_data"
    }
   ],
   "source": [
    "# Leer csv\n",
    "# ?read.csv\n",
    "InfoAcad <- read.csv('InfoAcad_EM11_subset.csv')\n",
    "\n",
    "#Dimensiones de la tabla\n",
    "dim(InfoAcad)\n",
    "\n",
    "#Metadata de la tabla\n",
    "str(InfoAcad)\n",
    "\n",
    "#Datos estadisticos\n",
    "summary(InfoAcad)\n",
    "\n",
    "#Primeros 6 renglones\n",
    "head(InfoAcad)\n",
    "\n",
    "#Imprimir tabla\n",
    "head(InfoAcad$PeriodoAdmision)"
   ]
  },
  {
   "cell_type": "code",
   "execution_count": 25,
   "metadata": {},
   "outputs": [
    {
     "data": {
      "text/html": [
       "<ol class=list-inline>\n",
       "\t<li>'PeriodoAdmision'</li>\n",
       "\t<li>'PeriodoAcad'</li>\n",
       "\t<li>'Inscrito'</li>\n",
       "\t<li>'TerminoIns'</li>\n",
       "\t<li>'IdAlumno'</li>\n",
       "\t<li>'idCarrera'</li>\n",
       "\t<li>'Semestre'</li>\n",
       "\t<li>'PrepaPrivada'</li>\n",
       "\t<li>'PromPrepa'</li>\n",
       "\t<li>'PromSecu'</li>\n",
       "\t<li>'Toefl'</li>\n",
       "\t<li>'PromedioAcum'</li>\n",
       "\t<li>'MatRepAcum'</li>\n",
       "\t<li>'MatRepPeriodo'</li>\n",
       "\t<li>'MatAprAcum'</li>\n",
       "\t<li>'MatAprPeriodo'</li>\n",
       "\t<li>'PtjeAdmision'</li>\n",
       "\t<li>'PromPeriodo'</li>\n",
       "\t<li>'Genero'</li>\n",
       "\t<li>'AñoNac'</li>\n",
       "\t<li>'MesNac'</li>\n",
       "\t<li>'DiaNac'</li>\n",
       "</ol>\n"
      ],
      "text/latex": [
       "\\begin{enumerate*}\n",
       "\\item 'PeriodoAdmision'\n",
       "\\item 'PeriodoAcad'\n",
       "\\item 'Inscrito'\n",
       "\\item 'TerminoIns'\n",
       "\\item 'IdAlumno'\n",
       "\\item 'idCarrera'\n",
       "\\item 'Semestre'\n",
       "\\item 'PrepaPrivada'\n",
       "\\item 'PromPrepa'\n",
       "\\item 'PromSecu'\n",
       "\\item 'Toefl'\n",
       "\\item 'PromedioAcum'\n",
       "\\item 'MatRepAcum'\n",
       "\\item 'MatRepPeriodo'\n",
       "\\item 'MatAprAcum'\n",
       "\\item 'MatAprPeriodo'\n",
       "\\item 'PtjeAdmision'\n",
       "\\item 'PromPeriodo'\n",
       "\\item 'Genero'\n",
       "\\item 'AñoNac'\n",
       "\\item 'MesNac'\n",
       "\\item 'DiaNac'\n",
       "\\end{enumerate*}\n"
      ],
      "text/markdown": [
       "1. 'PeriodoAdmision'\n",
       "2. 'PeriodoAcad'\n",
       "3. 'Inscrito'\n",
       "4. 'TerminoIns'\n",
       "5. 'IdAlumno'\n",
       "6. 'idCarrera'\n",
       "7. 'Semestre'\n",
       "8. 'PrepaPrivada'\n",
       "9. 'PromPrepa'\n",
       "10. 'PromSecu'\n",
       "11. 'Toefl'\n",
       "12. 'PromedioAcum'\n",
       "13. 'MatRepAcum'\n",
       "14. 'MatRepPeriodo'\n",
       "15. 'MatAprAcum'\n",
       "16. 'MatAprPeriodo'\n",
       "17. 'PtjeAdmision'\n",
       "18. 'PromPeriodo'\n",
       "19. 'Genero'\n",
       "20. 'AñoNac'\n",
       "21. 'MesNac'\n",
       "22. 'DiaNac'\n",
       "\n",
       "\n"
      ],
      "text/plain": [
       " [1] \"PeriodoAdmision\" \"PeriodoAcad\"     \"Inscrito\"        \"TerminoIns\"     \n",
       " [5] \"IdAlumno\"        \"idCarrera\"       \"Semestre\"        \"PrepaPrivada\"   \n",
       " [9] \"PromPrepa\"       \"PromSecu\"        \"Toefl\"           \"PromedioAcum\"   \n",
       "[13] \"MatRepAcum\"      \"MatRepPeriodo\"   \"MatAprAcum\"      \"MatAprPeriodo\"  \n",
       "[17] \"PtjeAdmision\"    \"PromPeriodo\"     \"Genero\"          \"AñoNac\"         \n",
       "[21] \"MesNac\"          \"DiaNac\"         "
      ]
     },
     "metadata": {},
     "output_type": "display_data"
    },
    {
     "data": {
      "text/html": [
       "<table>\n",
       "<thead><tr><th scope=col>IdAlumno</th><th scope=col>PromPrepa</th><th scope=col>PromSecu</th></tr></thead>\n",
       "<tbody>\n",
       "\t<tr><td>A10718</td><td>85    </td><td>10    </td></tr>\n",
       "\t<tr><td>A10720</td><td>      </td><td>      </td></tr>\n",
       "\t<tr><td>A10764</td><td>78    </td><td>82    </td></tr>\n",
       "\t<tr><td>A10767</td><td>      </td><td>      </td></tr>\n",
       "\t<tr><td>A11766</td><td>8     </td><td>9.6   </td></tr>\n",
       "\t<tr><td>A11782</td><td>      </td><td>      </td></tr>\n",
       "\t<tr><td>A11784</td><td>      </td><td>      </td></tr>\n",
       "\t<tr><td>A12733</td><td>79    </td><td>94    </td></tr>\n",
       "\t<tr><td>A12737</td><td>87    </td><td>      </td></tr>\n",
       "\t<tr><td>A12739</td><td>      </td><td>      </td></tr>\n",
       "</tbody>\n",
       "</table>\n"
      ],
      "text/latex": [
       "\\begin{tabular}{r|lll}\n",
       " IdAlumno & PromPrepa & PromSecu\\\\\n",
       "\\hline\n",
       "\t A10718 & 85     & 10    \\\\\n",
       "\t A10720 &        &       \\\\\n",
       "\t A10764 & 78     & 82    \\\\\n",
       "\t A10767 &        &       \\\\\n",
       "\t A11766 & 8      & 9.6   \\\\\n",
       "\t A11782 &        &       \\\\\n",
       "\t A11784 &        &       \\\\\n",
       "\t A12733 & 79     & 94    \\\\\n",
       "\t A12737 & 87     &       \\\\\n",
       "\t A12739 &        &       \\\\\n",
       "\\end{tabular}\n"
      ],
      "text/markdown": [
       "\n",
       "IdAlumno | PromPrepa | PromSecu | \n",
       "|---|---|---|---|---|---|---|---|---|---|\n",
       "| A10718 | 85     | 10     | \n",
       "| A10720 |        |        | \n",
       "| A10764 | 78     | 82     | \n",
       "| A10767 |        |        | \n",
       "| A11766 | 8      | 9.6    | \n",
       "| A11782 |        |        | \n",
       "| A11784 |        |        | \n",
       "| A12733 | 79     | 94     | \n",
       "| A12737 | 87     |        | \n",
       "| A12739 |        |        | \n",
       "\n",
       "\n"
      ],
      "text/plain": [
       "   IdAlumno PromPrepa PromSecu\n",
       "1  A10718   85        10      \n",
       "2  A10720                     \n",
       "3  A10764   78        82      \n",
       "4  A10767                     \n",
       "5  A11766   8         9.6     \n",
       "6  A11782                     \n",
       "7  A11784                     \n",
       "8  A12733   79        94      \n",
       "9  A12737   87                \n",
       "10 A12739                     "
      ]
     },
     "metadata": {},
     "output_type": "display_data"
    }
   ],
   "source": [
    "names(InfoAcad)\n",
    "head(InfoAcad[,c('IdAlumno','PromPrepa', 'PromSecu')], 10)\n",
    "subset <- InfoAcad[10:20,c('IdAlumno','PromPrepa', 'PromSecu')]"
   ]
  },
  {
   "cell_type": "code",
   "execution_count": 2,
   "metadata": {},
   "outputs": [
    {
     "name": "stderr",
     "output_type": "stream",
     "text": [
      "Warning message:\n",
      "\"package 'openxlsx' is in use and will not be installed\""
     ]
    }
   ],
   "source": [
    "# Instalar libreria para leer excel\n",
    "install.packages('openxlsx')"
   ]
  },
  {
   "cell_type": "code",
   "execution_count": 8,
   "metadata": {},
   "outputs": [
    {
     "data": {
      "text/html": [
       "<table>\n",
       "<thead><tr><th scope=col>PeriodoAdmision</th><th scope=col>PeriodoAcad</th><th scope=col>Inscrito</th><th scope=col>TerminoIns</th><th scope=col>IdAlumno</th><th scope=col>idCarrera</th><th scope=col>Semestre</th><th scope=col>PrepaPrivada</th><th scope=col>PromPrepa</th><th scope=col>PromSecu</th><th scope=col>...</th><th scope=col>MatRepAcum</th><th scope=col>MatRepPeriodo</th><th scope=col>MatAprAcum</th><th scope=col>MatAprPeriodo</th><th scope=col>PtjeAdmision</th><th scope=col>PromPeriodo</th><th scope=col>Genero</th><th scope=col>AñoNac</th><th scope=col>MesNac</th><th scope=col>DiaNac</th></tr></thead>\n",
       "<tbody>\n",
       "\t<tr><td>200513</td><td>200513</td><td>N     </td><td>N     </td><td>A10718</td><td>CARR84</td><td>1     </td><td>1     </td><td>85    </td><td>10    </td><td>...   </td><td>0     </td><td>0     </td><td> 0    </td><td>0     </td><td>1600  </td><td> 0.000</td><td>M     </td><td>1899  </td><td>12    </td><td>31    </td></tr>\n",
       "\t<tr><td>200513</td><td>200513</td><td>N     </td><td>N     </td><td>A10720</td><td>CARR84</td><td>1     </td><td>1     </td><td>NA    </td><td>NA    </td><td>...   </td><td>0     </td><td>0     </td><td> 0    </td><td>0     </td><td>  NA  </td><td> 0.000</td><td>M     </td><td>1929  </td><td> 8    </td><td>29    </td></tr>\n",
       "\t<tr><td>200513</td><td>200513</td><td>S     </td><td>S     </td><td>A10764</td><td>CARR66</td><td>1     </td><td>0     </td><td>78    </td><td>82    </td><td>...   </td><td>0     </td><td>0     </td><td> 6    </td><td>6     </td><td>1420  </td><td>93.666</td><td>M     </td><td>1983  </td><td> 4    </td><td>22    </td></tr>\n",
       "\t<tr><td>200513</td><td>200513</td><td>N     </td><td>N     </td><td>A10767</td><td>CARR84</td><td>1     </td><td>0     </td><td>NA    </td><td>NA    </td><td>...   </td><td>0     </td><td>0     </td><td> 0    </td><td>0     </td><td>  NA  </td><td> 0.000</td><td>M     </td><td>1958  </td><td> 5    </td><td>29    </td></tr>\n",
       "\t<tr><td>197913</td><td>200513</td><td>S     </td><td>S     </td><td>A11766</td><td>CARR42</td><td>3     </td><td>0     </td><td>8     </td><td>9.6   </td><td>...   </td><td>0     </td><td>0     </td><td>21    </td><td>4     </td><td>  NA  </td><td>96.750</td><td>F     </td><td>1961  </td><td> 6    </td><td> 1    </td></tr>\n",
       "\t<tr><td>200513</td><td>200513</td><td>N     </td><td>N     </td><td>A11782</td><td>CARR84</td><td>1     </td><td>0     </td><td>NA    </td><td>NA    </td><td>...   </td><td>0     </td><td>0     </td><td> 0    </td><td>0     </td><td>  NA  </td><td> 0.000</td><td>M     </td><td>1960  </td><td> 1    </td><td>30    </td></tr>\n",
       "</tbody>\n",
       "</table>\n"
      ],
      "text/latex": [
       "\\begin{tabular}{r|llllllllllllllllllllll}\n",
       " PeriodoAdmision & PeriodoAcad & Inscrito & TerminoIns & IdAlumno & idCarrera & Semestre & PrepaPrivada & PromPrepa & PromSecu & ... & MatRepAcum & MatRepPeriodo & MatAprAcum & MatAprPeriodo & PtjeAdmision & PromPeriodo & Genero & AñoNac & MesNac & DiaNac\\\\\n",
       "\\hline\n",
       "\t 200513 & 200513 & N      & N      & A10718 & CARR84 & 1      & 1      & 85     & 10     & ...    & 0      & 0      &  0     & 0      & 1600   &  0.000 & M      & 1899   & 12     & 31    \\\\\n",
       "\t 200513 & 200513 & N      & N      & A10720 & CARR84 & 1      & 1      & NA     & NA     & ...    & 0      & 0      &  0     & 0      &   NA   &  0.000 & M      & 1929   &  8     & 29    \\\\\n",
       "\t 200513 & 200513 & S      & S      & A10764 & CARR66 & 1      & 0      & 78     & 82     & ...    & 0      & 0      &  6     & 6      & 1420   & 93.666 & M      & 1983   &  4     & 22    \\\\\n",
       "\t 200513 & 200513 & N      & N      & A10767 & CARR84 & 1      & 0      & NA     & NA     & ...    & 0      & 0      &  0     & 0      &   NA   &  0.000 & M      & 1958   &  5     & 29    \\\\\n",
       "\t 197913 & 200513 & S      & S      & A11766 & CARR42 & 3      & 0      & 8      & 9.6    & ...    & 0      & 0      & 21     & 4      &   NA   & 96.750 & F      & 1961   &  6     &  1    \\\\\n",
       "\t 200513 & 200513 & N      & N      & A11782 & CARR84 & 1      & 0      & NA     & NA     & ...    & 0      & 0      &  0     & 0      &   NA   &  0.000 & M      & 1960   &  1     & 30    \\\\\n",
       "\\end{tabular}\n"
      ],
      "text/markdown": [
       "\n",
       "PeriodoAdmision | PeriodoAcad | Inscrito | TerminoIns | IdAlumno | idCarrera | Semestre | PrepaPrivada | PromPrepa | PromSecu | ... | MatRepAcum | MatRepPeriodo | MatAprAcum | MatAprPeriodo | PtjeAdmision | PromPeriodo | Genero | AñoNac | MesNac | DiaNac | \n",
       "|---|---|---|---|---|---|\n",
       "| 200513 | 200513 | N      | N      | A10718 | CARR84 | 1      | 1      | 85     | 10     | ...    | 0      | 0      |  0     | 0      | 1600   |  0.000 | M      | 1899   | 12     | 31     | \n",
       "| 200513 | 200513 | N      | N      | A10720 | CARR84 | 1      | 1      | NA     | NA     | ...    | 0      | 0      |  0     | 0      |   NA   |  0.000 | M      | 1929   |  8     | 29     | \n",
       "| 200513 | 200513 | S      | S      | A10764 | CARR66 | 1      | 0      | 78     | 82     | ...    | 0      | 0      |  6     | 6      | 1420   | 93.666 | M      | 1983   |  4     | 22     | \n",
       "| 200513 | 200513 | N      | N      | A10767 | CARR84 | 1      | 0      | NA     | NA     | ...    | 0      | 0      |  0     | 0      |   NA   |  0.000 | M      | 1958   |  5     | 29     | \n",
       "| 197913 | 200513 | S      | S      | A11766 | CARR42 | 3      | 0      | 8      | 9.6    | ...    | 0      | 0      | 21     | 4      |   NA   | 96.750 | F      | 1961   |  6     |  1     | \n",
       "| 200513 | 200513 | N      | N      | A11782 | CARR84 | 1      | 0      | NA     | NA     | ...    | 0      | 0      |  0     | 0      |   NA   |  0.000 | M      | 1960   |  1     | 30     | \n",
       "\n",
       "\n"
      ],
      "text/plain": [
       "  PeriodoAdmision PeriodoAcad Inscrito TerminoIns IdAlumno idCarrera Semestre\n",
       "1 200513          200513      N        N          A10718   CARR84    1       \n",
       "2 200513          200513      N        N          A10720   CARR84    1       \n",
       "3 200513          200513      S        S          A10764   CARR66    1       \n",
       "4 200513          200513      N        N          A10767   CARR84    1       \n",
       "5 197913          200513      S        S          A11766   CARR42    3       \n",
       "6 200513          200513      N        N          A11782   CARR84    1       \n",
       "  PrepaPrivada PromPrepa PromSecu ... MatRepAcum MatRepPeriodo MatAprAcum\n",
       "1 1            85        10       ... 0          0              0        \n",
       "2 1            NA        NA       ... 0          0              0        \n",
       "3 0            78        82       ... 0          0              6        \n",
       "4 0            NA        NA       ... 0          0              0        \n",
       "5 0            8         9.6      ... 0          0             21        \n",
       "6 0            NA        NA       ... 0          0              0        \n",
       "  MatAprPeriodo PtjeAdmision PromPeriodo Genero AñoNac MesNac DiaNac\n",
       "1 0             1600          0.000      M      1899   12     31    \n",
       "2 0               NA          0.000      M      1929    8     29    \n",
       "3 6             1420         93.666      M      1983    4     22    \n",
       "4 0               NA          0.000      M      1958    5     29    \n",
       "5 4               NA         96.750      F      1961    6      1    \n",
       "6 0               NA          0.000      M      1960    1     30    "
      ]
     },
     "metadata": {},
     "output_type": "display_data"
    }
   ],
   "source": [
    "library(openxlsx)\n",
    "InfoAcad_excel <- read.xlsx( 'InfoAcad_excel.xlsx')\n",
    "\n",
    "head(InfoAcad_excel)\n"
   ]
  },
  {
   "cell_type": "code",
   "execution_count": 27,
   "metadata": {},
   "outputs": [
    {
     "data": {
      "text/html": [
       "<ol class=list-inline>\n",
       "\t<li>'InfoAcad_EM11_subset.csv'</li>\n",
       "\t<li>'InfoAcad_excel.xlsx'</li>\n",
       "\t<li>'Medallistas Olimpicos.xlsx'</li>\n",
       "\t<li>'ST_Data.csv'</li>\n",
       "</ol>\n"
      ],
      "text/latex": [
       "\\begin{enumerate*}\n",
       "\\item 'InfoAcad\\_EM11\\_subset.csv'\n",
       "\\item 'InfoAcad\\_excel.xlsx'\n",
       "\\item 'Medallistas Olimpicos.xlsx'\n",
       "\\item 'ST\\_Data.csv'\n",
       "\\end{enumerate*}\n"
      ],
      "text/markdown": [
       "1. 'InfoAcad_EM11_subset.csv'\n",
       "2. 'InfoAcad_excel.xlsx'\n",
       "3. 'Medallistas Olimpicos.xlsx'\n",
       "4. 'ST_Data.csv'\n",
       "\n",
       "\n"
      ],
      "text/plain": [
       "[1] \"InfoAcad_EM11_subset.csv\"   \"InfoAcad_excel.xlsx\"       \n",
       "[3] \"Medallistas Olimpicos.xlsx\" \"ST_Data.csv\"               "
      ]
     },
     "metadata": {},
     "output_type": "display_data"
    },
    {
     "name": "stdout",
     "output_type": "stream",
     "text": [
      "[1] \"Numero de renglones= 30\"\n",
      "[1] \"Numero de columnas= 11\"\n",
      "[1] \"Numero de renglones= 29216\"\n",
      "[1] \"Numero de columnas= 10\"\n"
     ]
    },
    {
     "data": {
      "text/html": [
       "<ol class=list-inline>\n",
       "\t<li>30</li>\n",
       "\t<li>11</li>\n",
       "</ol>\n"
      ],
      "text/latex": [
       "\\begin{enumerate*}\n",
       "\\item 30\n",
       "\\item 11\n",
       "\\end{enumerate*}\n"
      ],
      "text/markdown": [
       "1. 30\n",
       "2. 11\n",
       "\n",
       "\n"
      ],
      "text/plain": [
       "[1] 30 11"
      ]
     },
     "metadata": {},
     "output_type": "display_data"
    },
    {
     "data": {
      "text/html": [
       "<ol class=list-inline>\n",
       "\t<li>29216</li>\n",
       "\t<li>10</li>\n",
       "</ol>\n"
      ],
      "text/latex": [
       "\\begin{enumerate*}\n",
       "\\item 29216\n",
       "\\item 10\n",
       "\\end{enumerate*}\n"
      ],
      "text/markdown": [
       "1. 29216\n",
       "2. 10\n",
       "\n",
       "\n"
      ],
      "text/plain": [
       "[1] 29216    10"
      ]
     },
     "metadata": {},
     "output_type": "display_data"
    }
   ],
   "source": [
    "### Actividad 4 ###\n",
    "\n",
    "#Set directory to datasets\n",
    "setwd('C:/Users/a.de.la.cruz/Documents/tallerR/datasets')\n",
    "dir()\n",
    "\n",
    "#Save datasets into dataframes\n",
    "datos001 <- read.csv('ST_Data.csv')\n",
    "datos002 <- read.xlsx('Medallistas Olimpicos.xlsx')\n",
    "\n",
    "#Probar que tienen datos\n",
    "#head(datos001)\n",
    "#head(datos002)\n",
    "\n",
    "#Obtener renglones / columnas\n",
    "rowsAndCols <- function( df ) {\n",
    "    print(paste('Numero de renglones=',length(rownames(df))))\n",
    "    print(paste('Numero de columnas=',length(colnames(df))))\n",
    "}\n",
    "\n",
    "rowsAndCols(datos001)\n",
    "rowsAndCols(datos002)\n",
    "\n",
    "#Comprobar con la funcion dim \n",
    "dim(datos001)\n",
    "dim(datos002)"
   ]
  },
  {
   "cell_type": "code",
   "execution_count": 44,
   "metadata": {},
   "outputs": [
    {
     "data": {
      "text/html": [
       "<table>\n",
       "<thead><tr><th></th><th scope=col>X</th><th scope=col>Ozone</th><th scope=col>Solar.R</th><th scope=col>Wind</th><th scope=col>Temp</th><th scope=col>Month</th><th scope=col>Day</th></tr></thead>\n",
       "<tbody>\n",
       "\t<tr><th scope=row>32</th><td>32  </td><td>NA  </td><td>286 </td><td> 8.6</td><td>78  </td><td>6   </td><td> 1  </td></tr>\n",
       "\t<tr><th scope=row>33</th><td>33  </td><td>NA  </td><td>287 </td><td> 9.7</td><td>74  </td><td>6   </td><td> 2  </td></tr>\n",
       "\t<tr><th scope=row>34</th><td>34  </td><td>NA  </td><td>242 </td><td>16.1</td><td>67  </td><td>6   </td><td> 3  </td></tr>\n",
       "\t<tr><th scope=row>35</th><td>35  </td><td>NA  </td><td>186 </td><td> 9.2</td><td>84  </td><td>6   </td><td> 4  </td></tr>\n",
       "\t<tr><th scope=row>36</th><td>36  </td><td>NA  </td><td>220 </td><td> 8.6</td><td>85  </td><td>6   </td><td> 5  </td></tr>\n",
       "\t<tr><th scope=row>37</th><td>37  </td><td>NA  </td><td>264 </td><td>14.3</td><td>79  </td><td>6   </td><td> 6  </td></tr>\n",
       "\t<tr><th scope=row>38</th><td>38  </td><td>29  </td><td>127 </td><td> 9.7</td><td>82  </td><td>6   </td><td> 7  </td></tr>\n",
       "\t<tr><th scope=row>39</th><td>39  </td><td>NA  </td><td>273 </td><td> 6.9</td><td>87  </td><td>6   </td><td> 8  </td></tr>\n",
       "\t<tr><th scope=row>40</th><td>40  </td><td>71  </td><td>291 </td><td>13.8</td><td>90  </td><td>6   </td><td> 9  </td></tr>\n",
       "\t<tr><th scope=row>41</th><td>41  </td><td>39  </td><td>323 </td><td>11.5</td><td>87  </td><td>6   </td><td>10  </td></tr>\n",
       "\t<tr><th scope=row>42</th><td>42  </td><td>NA  </td><td>259 </td><td>10.9</td><td>93  </td><td>6   </td><td>11  </td></tr>\n",
       "\t<tr><th scope=row>43</th><td>43  </td><td>NA  </td><td>250 </td><td> 9.2</td><td>92  </td><td>6   </td><td>12  </td></tr>\n",
       "\t<tr><th scope=row>44</th><td>44  </td><td>23  </td><td>148 </td><td> 8.0</td><td>82  </td><td>6   </td><td>13  </td></tr>\n",
       "\t<tr><th scope=row>45</th><td>45  </td><td>NA  </td><td>332 </td><td>13.8</td><td>80  </td><td>6   </td><td>14  </td></tr>\n",
       "\t<tr><th scope=row>46</th><td>46  </td><td>NA  </td><td>322 </td><td>11.5</td><td>79  </td><td>6   </td><td>15  </td></tr>\n",
       "\t<tr><th scope=row>47</th><td>47  </td><td>21  </td><td>191 </td><td>14.9</td><td>77  </td><td>6   </td><td>16  </td></tr>\n",
       "\t<tr><th scope=row>48</th><td>48  </td><td>37  </td><td>284 </td><td>20.7</td><td>72  </td><td>6   </td><td>17  </td></tr>\n",
       "\t<tr><th scope=row>49</th><td>49  </td><td>20  </td><td> 37 </td><td> 9.2</td><td>65  </td><td>6   </td><td>18  </td></tr>\n",
       "\t<tr><th scope=row>50</th><td>50  </td><td>12  </td><td>120 </td><td>11.5</td><td>73  </td><td>6   </td><td>19  </td></tr>\n",
       "\t<tr><th scope=row>51</th><td>51  </td><td>13  </td><td>137 </td><td>10.3</td><td>76  </td><td>6   </td><td>20  </td></tr>\n",
       "\t<tr><th scope=row>52</th><td>52  </td><td>NA  </td><td>150 </td><td> 6.3</td><td>77  </td><td>6   </td><td>21  </td></tr>\n",
       "\t<tr><th scope=row>53</th><td>53  </td><td>NA  </td><td> 59 </td><td> 1.7</td><td>76  </td><td>6   </td><td>22  </td></tr>\n",
       "\t<tr><th scope=row>54</th><td>54  </td><td>NA  </td><td> 91 </td><td> 4.6</td><td>76  </td><td>6   </td><td>23  </td></tr>\n",
       "\t<tr><th scope=row>55</th><td>55  </td><td>NA  </td><td>250 </td><td> 6.3</td><td>76  </td><td>6   </td><td>24  </td></tr>\n",
       "\t<tr><th scope=row>56</th><td>56  </td><td>NA  </td><td>135 </td><td> 8.0</td><td>75  </td><td>6   </td><td>25  </td></tr>\n",
       "\t<tr><th scope=row>57</th><td>57  </td><td>NA  </td><td>127 </td><td> 8.0</td><td>78  </td><td>6   </td><td>26  </td></tr>\n",
       "\t<tr><th scope=row>58</th><td>58  </td><td>NA  </td><td> 47 </td><td>10.3</td><td>73  </td><td>6   </td><td>27  </td></tr>\n",
       "\t<tr><th scope=row>59</th><td>59  </td><td>NA  </td><td> 98 </td><td>11.5</td><td>80  </td><td>6   </td><td>28  </td></tr>\n",
       "\t<tr><th scope=row>60</th><td>60  </td><td>NA  </td><td> 31 </td><td>14.9</td><td>77  </td><td>6   </td><td>29  </td></tr>\n",
       "\t<tr><th scope=row>61</th><td>61  </td><td>NA  </td><td>138 </td><td> 8.0</td><td>83  </td><td>6   </td><td>30  </td></tr>\n",
       "</tbody>\n",
       "</table>\n"
      ],
      "text/latex": [
       "\\begin{tabular}{r|lllllll}\n",
       "  & X & Ozone & Solar.R & Wind & Temp & Month & Day\\\\\n",
       "\\hline\n",
       "\t32 & 32   & NA   & 286  &  8.6 & 78   & 6    &  1  \\\\\n",
       "\t33 & 33   & NA   & 287  &  9.7 & 74   & 6    &  2  \\\\\n",
       "\t34 & 34   & NA   & 242  & 16.1 & 67   & 6    &  3  \\\\\n",
       "\t35 & 35   & NA   & 186  &  9.2 & 84   & 6    &  4  \\\\\n",
       "\t36 & 36   & NA   & 220  &  8.6 & 85   & 6    &  5  \\\\\n",
       "\t37 & 37   & NA   & 264  & 14.3 & 79   & 6    &  6  \\\\\n",
       "\t38 & 38   & 29   & 127  &  9.7 & 82   & 6    &  7  \\\\\n",
       "\t39 & 39   & NA   & 273  &  6.9 & 87   & 6    &  8  \\\\\n",
       "\t40 & 40   & 71   & 291  & 13.8 & 90   & 6    &  9  \\\\\n",
       "\t41 & 41   & 39   & 323  & 11.5 & 87   & 6    & 10  \\\\\n",
       "\t42 & 42   & NA   & 259  & 10.9 & 93   & 6    & 11  \\\\\n",
       "\t43 & 43   & NA   & 250  &  9.2 & 92   & 6    & 12  \\\\\n",
       "\t44 & 44   & 23   & 148  &  8.0 & 82   & 6    & 13  \\\\\n",
       "\t45 & 45   & NA   & 332  & 13.8 & 80   & 6    & 14  \\\\\n",
       "\t46 & 46   & NA   & 322  & 11.5 & 79   & 6    & 15  \\\\\n",
       "\t47 & 47   & 21   & 191  & 14.9 & 77   & 6    & 16  \\\\\n",
       "\t48 & 48   & 37   & 284  & 20.7 & 72   & 6    & 17  \\\\\n",
       "\t49 & 49   & 20   &  37  &  9.2 & 65   & 6    & 18  \\\\\n",
       "\t50 & 50   & 12   & 120  & 11.5 & 73   & 6    & 19  \\\\\n",
       "\t51 & 51   & 13   & 137  & 10.3 & 76   & 6    & 20  \\\\\n",
       "\t52 & 52   & NA   & 150  &  6.3 & 77   & 6    & 21  \\\\\n",
       "\t53 & 53   & NA   &  59  &  1.7 & 76   & 6    & 22  \\\\\n",
       "\t54 & 54   & NA   &  91  &  4.6 & 76   & 6    & 23  \\\\\n",
       "\t55 & 55   & NA   & 250  &  6.3 & 76   & 6    & 24  \\\\\n",
       "\t56 & 56   & NA   & 135  &  8.0 & 75   & 6    & 25  \\\\\n",
       "\t57 & 57   & NA   & 127  &  8.0 & 78   & 6    & 26  \\\\\n",
       "\t58 & 58   & NA   &  47  & 10.3 & 73   & 6    & 27  \\\\\n",
       "\t59 & 59   & NA   &  98  & 11.5 & 80   & 6    & 28  \\\\\n",
       "\t60 & 60   & NA   &  31  & 14.9 & 77   & 6    & 29  \\\\\n",
       "\t61 & 61   & NA   & 138  &  8.0 & 83   & 6    & 30  \\\\\n",
       "\\end{tabular}\n"
      ],
      "text/markdown": [
       "\n",
       "| <!--/--> | X | Ozone | Solar.R | Wind | Temp | Month | Day | \n",
       "|---|---|---|---|---|---|---|---|---|---|---|---|---|---|---|---|---|---|---|---|---|---|---|---|---|---|---|---|---|---|\n",
       "| 32 | 32   | NA   | 286  |  8.6 | 78   | 6    |  1   | \n",
       "| 33 | 33   | NA   | 287  |  9.7 | 74   | 6    |  2   | \n",
       "| 34 | 34   | NA   | 242  | 16.1 | 67   | 6    |  3   | \n",
       "| 35 | 35   | NA   | 186  |  9.2 | 84   | 6    |  4   | \n",
       "| 36 | 36   | NA   | 220  |  8.6 | 85   | 6    |  5   | \n",
       "| 37 | 37   | NA   | 264  | 14.3 | 79   | 6    |  6   | \n",
       "| 38 | 38   | 29   | 127  |  9.7 | 82   | 6    |  7   | \n",
       "| 39 | 39   | NA   | 273  |  6.9 | 87   | 6    |  8   | \n",
       "| 40 | 40   | 71   | 291  | 13.8 | 90   | 6    |  9   | \n",
       "| 41 | 41   | 39   | 323  | 11.5 | 87   | 6    | 10   | \n",
       "| 42 | 42   | NA   | 259  | 10.9 | 93   | 6    | 11   | \n",
       "| 43 | 43   | NA   | 250  |  9.2 | 92   | 6    | 12   | \n",
       "| 44 | 44   | 23   | 148  |  8.0 | 82   | 6    | 13   | \n",
       "| 45 | 45   | NA   | 332  | 13.8 | 80   | 6    | 14   | \n",
       "| 46 | 46   | NA   | 322  | 11.5 | 79   | 6    | 15   | \n",
       "| 47 | 47   | 21   | 191  | 14.9 | 77   | 6    | 16   | \n",
       "| 48 | 48   | 37   | 284  | 20.7 | 72   | 6    | 17   | \n",
       "| 49 | 49   | 20   |  37  |  9.2 | 65   | 6    | 18   | \n",
       "| 50 | 50   | 12   | 120  | 11.5 | 73   | 6    | 19   | \n",
       "| 51 | 51   | 13   | 137  | 10.3 | 76   | 6    | 20   | \n",
       "| 52 | 52   | NA   | 150  |  6.3 | 77   | 6    | 21   | \n",
       "| 53 | 53   | NA   |  59  |  1.7 | 76   | 6    | 22   | \n",
       "| 54 | 54   | NA   |  91  |  4.6 | 76   | 6    | 23   | \n",
       "| 55 | 55   | NA   | 250  |  6.3 | 76   | 6    | 24   | \n",
       "| 56 | 56   | NA   | 135  |  8.0 | 75   | 6    | 25   | \n",
       "| 57 | 57   | NA   | 127  |  8.0 | 78   | 6    | 26   | \n",
       "| 58 | 58   | NA   |  47  | 10.3 | 73   | 6    | 27   | \n",
       "| 59 | 59   | NA   |  98  | 11.5 | 80   | 6    | 28   | \n",
       "| 60 | 60   | NA   |  31  | 14.9 | 77   | 6    | 29   | \n",
       "| 61 | 61   | NA   | 138  |  8.0 | 83   | 6    | 30   | \n",
       "\n",
       "\n"
      ],
      "text/plain": [
       "   X  Ozone Solar.R Wind Temp Month Day\n",
       "32 32 NA    286      8.6 78   6      1 \n",
       "33 33 NA    287      9.7 74   6      2 \n",
       "34 34 NA    242     16.1 67   6      3 \n",
       "35 35 NA    186      9.2 84   6      4 \n",
       "36 36 NA    220      8.6 85   6      5 \n",
       "37 37 NA    264     14.3 79   6      6 \n",
       "38 38 29    127      9.7 82   6      7 \n",
       "39 39 NA    273      6.9 87   6      8 \n",
       "40 40 71    291     13.8 90   6      9 \n",
       "41 41 39    323     11.5 87   6     10 \n",
       "42 42 NA    259     10.9 93   6     11 \n",
       "43 43 NA    250      9.2 92   6     12 \n",
       "44 44 23    148      8.0 82   6     13 \n",
       "45 45 NA    332     13.8 80   6     14 \n",
       "46 46 NA    322     11.5 79   6     15 \n",
       "47 47 21    191     14.9 77   6     16 \n",
       "48 48 37    284     20.7 72   6     17 \n",
       "49 49 20     37      9.2 65   6     18 \n",
       "50 50 12    120     11.5 73   6     19 \n",
       "51 51 13    137     10.3 76   6     20 \n",
       "52 52 NA    150      6.3 77   6     21 \n",
       "53 53 NA     59      1.7 76   6     22 \n",
       "54 54 NA     91      4.6 76   6     23 \n",
       "55 55 NA    250      6.3 76   6     24 \n",
       "56 56 NA    135      8.0 75   6     25 \n",
       "57 57 NA    127      8.0 78   6     26 \n",
       "58 58 NA     47     10.3 73   6     27 \n",
       "59 59 NA     98     11.5 80   6     28 \n",
       "60 60 NA     31     14.9 77   6     29 \n",
       "61 61 NA    138      8.0 83   6     30 "
      ]
     },
     "metadata": {},
     "output_type": "display_data"
    }
   ],
   "source": [
    "### Actividad 5 ###\n",
    "#Script 1\n",
    "#Set directory to datasets\n",
    "setwd('C:/Users/a.de.la.cruz/Documents/tallerR/datasets')\n",
    "\n",
    "#Save datasets into dataframes\n",
    "AIR <- read.csv('airquality.csv')\n",
    "\n",
    "#Script 2\n",
    "Num <- length(colnames(AIR)) * length(rownames(AIR))\n",
    "\n",
    "#Script 3\n",
    "COLUMNAS <- colnames(AIR)\n",
    "\n",
    "#Script 4\n",
    "CLASECOLUMNAS <- sapply(AIR[0,],class)\n",
    "\n",
    "#Script 5\n",
    "ColName <- c(2,3,1)\n",
    "AIRSUB <- AIR[ColName]\n",
    "\n",
    "#Script 6\n",
    "AIRQUERY <- AIR[AIR$Temp >= 8 & AIR$Month == 6,]\n"
   ]
  },
  {
   "cell_type": "code",
   "execution_count": 21,
   "metadata": {},
   "outputs": [
    {
     "data": {
      "text/html": [
       "<table>\n",
       "<thead><tr><th scope=col>PeriodoAdmision</th><th scope=col>PeriodoAcad</th><th scope=col>Inscrito</th><th scope=col>TerminoIns</th><th scope=col>IdAlumno</th><th scope=col>idCarrera</th><th scope=col>Semestre</th><th scope=col>PrepaPrivada</th><th scope=col>PromPrepa</th><th scope=col>PromSecu</th><th scope=col>...</th><th scope=col>MatAprAcum</th><th scope=col>MatAprPeriodo</th><th scope=col>PtjeAdmision</th><th scope=col>PromPeriodo</th><th scope=col>Genero</th><th scope=col>AñoNac</th><th scope=col>MesNac</th><th scope=col>DiaNac</th><th scope=col>fechaNac</th><th scope=col>edad</th></tr></thead>\n",
       "<tbody>\n",
       "\t<tr><td>200513        </td><td>200513        </td><td>N             </td><td>N             </td><td>A10718        </td><td>CARR84        </td><td>1             </td><td>1             </td><td>85            </td><td>10            </td><td>...           </td><td> 0            </td><td>0             </td><td>1600          </td><td> 0.000        </td><td>M             </td><td>1899          </td><td>12            </td><td>31            </td><td>1899-12-31    </td><td>118.73973 days</td></tr>\n",
       "\t<tr><td>200513        </td><td>200513        </td><td>N             </td><td>N             </td><td>A10720        </td><td>CARR84        </td><td>1             </td><td>1             </td><td>              </td><td>              </td><td>...           </td><td> 0            </td><td>0             </td><td>  NA          </td><td> 0.000        </td><td>M             </td><td>1929          </td><td> 8            </td><td>29            </td><td>1929-08-29    </td><td> 89.06027 days</td></tr>\n",
       "\t<tr><td>200513        </td><td>200513        </td><td>S             </td><td>S             </td><td>A10764        </td><td>CARR66        </td><td>1             </td><td>0             </td><td>78            </td><td>82            </td><td>...           </td><td> 6            </td><td>6             </td><td>1420          </td><td>93.666        </td><td>M             </td><td>1983          </td><td> 4            </td><td>22            </td><td>1983-04-22    </td><td> 35.37808 days</td></tr>\n",
       "\t<tr><td>200513        </td><td>200513        </td><td>N             </td><td>N             </td><td>A10767        </td><td>CARR84        </td><td>1             </td><td>0             </td><td>              </td><td>              </td><td>...           </td><td> 0            </td><td>0             </td><td>  NA          </td><td> 0.000        </td><td>M             </td><td>1958          </td><td> 5            </td><td>29            </td><td>1958-05-29    </td><td> 60.29315 days</td></tr>\n",
       "\t<tr><td>197913        </td><td>200513        </td><td>S             </td><td>S             </td><td>A11766        </td><td>CARR42        </td><td>3             </td><td>0             </td><td>8             </td><td>9.6           </td><td>...           </td><td>21            </td><td>4             </td><td>  NA          </td><td>96.750        </td><td>F             </td><td>1961          </td><td> 6            </td><td> 1            </td><td>1961-06-01    </td><td> 57.28219 days</td></tr>\n",
       "\t<tr><td>200513        </td><td>200513        </td><td>N             </td><td>N             </td><td>A11782        </td><td>CARR84        </td><td>1             </td><td>0             </td><td>              </td><td>              </td><td>...           </td><td> 0            </td><td>0             </td><td>  NA          </td><td> 0.000        </td><td>M             </td><td>1960          </td><td> 1            </td><td>30            </td><td>1960-01-30    </td><td> 58.61918 days</td></tr>\n",
       "\t<tr><td>200513        </td><td>200513        </td><td>N             </td><td>N             </td><td>A11784        </td><td>CARR84        </td><td>1             </td><td>0             </td><td>              </td><td>              </td><td>...           </td><td> 0            </td><td>0             </td><td>  NA          </td><td> 0.000        </td><td>M             </td><td>1962          </td><td>10            </td><td>10            </td><td>1962-10-10    </td><td> 55.92329 days</td></tr>\n",
       "\t<tr><td>200511        </td><td>200513        </td><td>N             </td><td>N             </td><td>A12733        </td><td>CARR2         </td><td>FD            </td><td>0             </td><td>79            </td><td>94            </td><td>...           </td><td> 1            </td><td>0             </td><td>  NA          </td><td> 0.000        </td><td>M             </td><td>1964          </td><td> 1            </td><td>31            </td><td>1964-01-31    </td><td> 54.61370 days</td></tr>\n",
       "\t<tr><td>200512        </td><td>200513        </td><td>N             </td><td>N             </td><td>A12737        </td><td>CARR88        </td><td>8             </td><td>0             </td><td>87            </td><td>              </td><td>...           </td><td>49            </td><td>0             </td><td>  NA          </td><td> 0.000        </td><td>F             </td><td>1964          </td><td> 9            </td><td>24            </td><td>1964-09-24    </td><td> 53.96438 days</td></tr>\n",
       "\t<tr><td>200513        </td><td>200513        </td><td>N             </td><td>N             </td><td>A12739        </td><td>CARR84        </td><td>1             </td><td>0             </td><td>              </td><td>              </td><td>...           </td><td> 0            </td><td>0             </td><td>  NA          </td><td> 0.000        </td><td>M             </td><td>1964          </td><td> 9            </td><td>27            </td><td>1964-09-27    </td><td> 53.95616 days</td></tr>\n",
       "\t<tr><td>200513        </td><td>200513        </td><td>N             </td><td>N             </td><td>A12800        </td><td>CARR84        </td><td>1             </td><td>0             </td><td>              </td><td>              </td><td>...           </td><td> 0            </td><td>0             </td><td>  NA          </td><td> 0.000        </td><td>M             </td><td>1964          </td><td> 7            </td><td> 3            </td><td>1964-07-03    </td><td> 54.19178 days</td></tr>\n",
       "\t<tr><td>200513        </td><td>200513        </td><td>N             </td><td>N             </td><td>A13030        </td><td>CARR75        </td><td>CA            </td><td>0             </td><td>74            </td><td>93            </td><td>...           </td><td>57            </td><td>0             </td><td>1579          </td><td> 0.000        </td><td>M             </td><td>1970          </td><td> 5            </td><td> 2            </td><td>1970-05-02    </td><td> 48.35890 days</td></tr>\n",
       "\t<tr><td>199611        </td><td>200513        </td><td>S             </td><td>S             </td><td>A13044        </td><td>CARR103       </td><td>1             </td><td>0             </td><td>82            </td><td>82            </td><td>...           </td><td>26            </td><td>7             </td><td>1359          </td><td>87.285        </td><td>M             </td><td>1970          </td><td>11            </td><td> 9            </td><td>1970-11-09    </td><td> 47.83562 days</td></tr>\n",
       "\t<tr><td>200511        </td><td>200513        </td><td>S             </td><td>S             </td><td>A13280        </td><td>CARR2         </td><td>5             </td><td>0             </td><td>0             </td><td>79            </td><td>...           </td><td>31            </td><td>0             </td><td>1335          </td><td>10.000        </td><td>M             </td><td>1974          </td><td> 1            </td><td> 7            </td><td>1974-01-07    </td><td> 44.67123 days</td></tr>\n",
       "\t<tr><td>200411        </td><td>200513        </td><td>S             </td><td>S             </td><td>A13402        </td><td>CARR58        </td><td>9             </td><td>0             </td><td>78            </td><td>85            </td><td>...           </td><td>69            </td><td>8             </td><td>1207          </td><td>90.625        </td><td>M             </td><td>1975          </td><td> 4            </td><td>21            </td><td>1975-04-21    </td><td> 43.38630 days</td></tr>\n",
       "\t<tr><td>200513        </td><td>200513        </td><td>N             </td><td>N             </td><td>A13403        </td><td>CARR84        </td><td>1             </td><td>0             </td><td>              </td><td>              </td><td>...           </td><td> 0            </td><td>0             </td><td>  NA          </td><td> 0.000        </td><td>F             </td><td>1975          </td><td> 7            </td><td>23            </td><td>1975-07-23    </td><td> 43.13151 days</td></tr>\n",
       "\t<tr><td>200511        </td><td>200513        </td><td>S             </td><td>S             </td><td>A13519        </td><td>CARR62        </td><td>9             </td><td>0             </td><td>86            </td><td>91            </td><td>...           </td><td>61            </td><td>2             </td><td>1203          </td><td>84.500        </td><td>M             </td><td>1975          </td><td> 6            </td><td> 7            </td><td>1975-06-07    </td><td> 43.25753 days</td></tr>\n",
       "\t<tr><td>200513        </td><td>200513        </td><td>N             </td><td>N             </td><td>A13537        </td><td>CARR103       </td><td>9             </td><td>0             </td><td>89            </td><td>0             </td><td>...           </td><td>57            </td><td>0             </td><td>1275          </td><td> 0.000        </td><td>F             </td><td>1976          </td><td> 3            </td><td>22            </td><td>1976-03-22    </td><td> 42.46575 days</td></tr>\n",
       "\t<tr><td>199811        </td><td>200513        </td><td>S             </td><td>S             </td><td>A13610        </td><td>CARR71        </td><td>9             </td><td>0             </td><td>90            </td><td>97            </td><td>...           </td><td>56            </td><td>2             </td><td>1291          </td><td>58.666        </td><td>F             </td><td>1975          </td><td> 4            </td><td>30            </td><td>1975-04-30    </td><td> 43.36164 days</td></tr>\n",
       "\t<tr><td>200513        </td><td>200513        </td><td>N             </td><td>N             </td><td>A13642        </td><td>CARR84        </td><td>1             </td><td>0             </td><td>0             </td><td>0             </td><td>...           </td><td> 0            </td><td>0             </td><td>1320          </td><td> 0.000        </td><td>M             </td><td>1970          </td><td>12            </td><td> 1            </td><td>1970-12-01    </td><td> 47.77534 days</td></tr>\n",
       "\t<tr><td>200513        </td><td>200513        </td><td>N             </td><td>N             </td><td>A13702        </td><td>CARR84        </td><td>1             </td><td>0             </td><td>              </td><td>              </td><td>...           </td><td> 0            </td><td>0             </td><td>  NA          </td><td> 0.000        </td><td>M             </td><td>1966          </td><td>10            </td><td>26            </td><td>1966-10-26    </td><td> 51.87671 days</td></tr>\n",
       "\t<tr><td>200211        </td><td>200513        </td><td>S             </td><td>S             </td><td>A13743        </td><td>CARR63        </td><td>9             </td><td>0             </td><td>70            </td><td>70            </td><td>...           </td><td>59            </td><td>3             </td><td>1388          </td><td>64.750        </td><td>M             </td><td>1974          </td><td> 2            </td><td>24            </td><td>1974-02-24    </td><td> 44.53973 days</td></tr>\n",
       "\t<tr><td>200513        </td><td>200513        </td><td>N             </td><td>N             </td><td>A14735        </td><td>CARR84        </td><td>1             </td><td>0             </td><td>              </td><td>              </td><td>...           </td><td> 0            </td><td>0             </td><td>  NA          </td><td> 0.000        </td><td>M             </td><td>1964          </td><td> 6            </td><td>15            </td><td>1964-06-15    </td><td> 54.24110 days</td></tr>\n",
       "\t<tr><td>200513        </td><td>200513        </td><td>S             </td><td>S             </td><td>A14738        </td><td>CARR63        </td><td>1             </td><td>1             </td><td>90            </td><td>99            </td><td>...           </td><td> 4            </td><td>4             </td><td>  NA          </td><td>78.500        </td><td>M             </td><td>1965          </td><td> 4            </td><td>20            </td><td>1965-04-20    </td><td> 53.39452 days</td></tr>\n",
       "\t<tr><td>200513        </td><td>200513        </td><td>N             </td><td>N             </td><td>A14744        </td><td>CARR84        </td><td>1             </td><td>0             </td><td>              </td><td>              </td><td>...           </td><td> 0            </td><td>0             </td><td>  NA          </td><td> 0.000        </td><td>F             </td><td>1966          </td><td>11            </td><td> 5            </td><td>1966-11-05    </td><td> 51.84932 days</td></tr>\n",
       "\t<tr><td>200311        </td><td>200513        </td><td>S             </td><td>S             </td><td>A14855        </td><td>CARR110       </td><td>5             </td><td>1             </td><td>              </td><td>              </td><td>...           </td><td>67            </td><td>2             </td><td>  NA          </td><td>97.500        </td><td>F             </td><td>1973          </td><td> 1            </td><td> 1            </td><td>1973-01-01    </td><td> 45.68767 days</td></tr>\n",
       "\t<tr><td>200513        </td><td>200513        </td><td>N             </td><td>N             </td><td>A14895        </td><td>CARR84        </td><td>1             </td><td>0             </td><td>              </td><td>              </td><td>...           </td><td> 0            </td><td>0             </td><td>  NA          </td><td> 0.000        </td><td>F             </td><td>1970          </td><td> 2            </td><td>20            </td><td>1970-02-20    </td><td> 48.55342 days</td></tr>\n",
       "\t<tr><td>200313        </td><td>200513        </td><td>N             </td><td>N             </td><td>A15139        </td><td>CARR62        </td><td>9             </td><td>0             </td><td>              </td><td>77            </td><td>...           </td><td>60            </td><td>0             </td><td>1163          </td><td> 0.000        </td><td>M             </td><td>1981          </td><td> 9            </td><td> 7            </td><td>1981-09-07    </td><td> 37.00000 days</td></tr>\n",
       "\t<tr><td>200113        </td><td>200513        </td><td>N             </td><td>N             </td><td>A15153        </td><td>CARR103       </td><td>6             </td><td>1             </td><td>89            </td><td>99            </td><td>...           </td><td>38            </td><td>0             </td><td>  NA          </td><td> 0.000        </td><td>F             </td><td>1981          </td><td>12            </td><td> 8            </td><td>1981-12-08    </td><td> 36.74795 days</td></tr>\n",
       "\t<tr><td>200213        </td><td>200513        </td><td>N             </td><td>N             </td><td>A15166        </td><td>CARR85        </td><td>9             </td><td>1             </td><td>78            </td><td>84            </td><td>...           </td><td>55            </td><td>0             </td><td>  NA          </td><td> 0.000        </td><td>M             </td><td>1982          </td><td> 2            </td><td> 4            </td><td>1982-02-04    </td><td> 36.58904 days</td></tr>\n",
       "\t<tr><td>...</td><td>...</td><td>...</td><td>...</td><td>...</td><td>...</td><td>...</td><td>...</td><td>...</td><td>...</td><td>   </td><td>...</td><td>...</td><td>...</td><td>...</td><td>...</td><td>...</td><td>...</td><td>...</td><td>...</td><td>...</td></tr>\n",
       "\t<tr><td>200913       </td><td>200913       </td><td>N            </td><td>N            </td><td>A77758       </td><td>CARR112      </td><td>1            </td><td>0            </td><td>84           </td><td>92           </td><td>...          </td><td>0            </td><td>0            </td><td>1384         </td><td>0            </td><td>M            </td><td>1991         </td><td>10           </td><td>18           </td><td>1991-10-18   </td><td>26.88219 days</td></tr>\n",
       "\t<tr><td>200913       </td><td>200913       </td><td>N            </td><td>N            </td><td>A77790       </td><td>CARR103      </td><td>1            </td><td>0            </td><td>98           </td><td>93           </td><td>...          </td><td>0            </td><td>0            </td><td>1323         </td><td>0            </td><td>F            </td><td>1990         </td><td> 1           </td><td> 2           </td><td>1990-01-02   </td><td>28.67397 days</td></tr>\n",
       "\t<tr><td>200913       </td><td>200913       </td><td>N            </td><td>N            </td><td>A77803       </td><td>CARR2        </td><td>1            </td><td>0            </td><td>93           </td><td>95           </td><td>...          </td><td>0            </td><td>0            </td><td>1238         </td><td>0            </td><td>M            </td><td>1990         </td><td> 2           </td><td> 2           </td><td>1990-02-02   </td><td>28.58904 days</td></tr>\n",
       "\t<tr><td>200913       </td><td>200913       </td><td>N            </td><td>N            </td><td>A77805       </td><td>CARR103      </td><td>1            </td><td>0            </td><td>94           </td><td>96           </td><td>...          </td><td>0            </td><td>0            </td><td>1364         </td><td>0            </td><td>F            </td><td>1989         </td><td>10           </td><td>27           </td><td>1989-10-27   </td><td>28.85753 days</td></tr>\n",
       "\t<tr><td>200913       </td><td>200913       </td><td>N            </td><td>N            </td><td>A77850       </td><td>CARR63       </td><td>1            </td><td>0            </td><td>84           </td><td>89           </td><td>...          </td><td>0            </td><td>0            </td><td>1305         </td><td>0            </td><td>M            </td><td>1990         </td><td> 7           </td><td>27           </td><td>1990-07-27   </td><td>28.10959 days</td></tr>\n",
       "\t<tr><td>200913       </td><td>200913       </td><td>N            </td><td>N            </td><td>A77876       </td><td>CARR84       </td><td>1            </td><td>0            </td><td>82           </td><td>89           </td><td>...          </td><td>0            </td><td>0            </td><td>1385         </td><td>0            </td><td>M            </td><td>1990         </td><td> 8           </td><td>12           </td><td>1990-08-12   </td><td>28.06575 days</td></tr>\n",
       "\t<tr><td>200913       </td><td>200913       </td><td>N            </td><td>N            </td><td>A78313       </td><td>CARR42       </td><td>1            </td><td>0            </td><td>100          </td><td>99           </td><td>...          </td><td>0            </td><td>0            </td><td>1268         </td><td>0            </td><td>F            </td><td>1990         </td><td> 3           </td><td>27           </td><td>1990-03-27   </td><td>28.44384 days</td></tr>\n",
       "\t<tr><td>200913       </td><td>200913       </td><td>N            </td><td>N            </td><td>A78330       </td><td>CARR62       </td><td>1            </td><td>0            </td><td>83           </td><td>76           </td><td>...          </td><td>0            </td><td>0            </td><td>1325         </td><td>0            </td><td>M            </td><td>1990         </td><td> 4           </td><td>16           </td><td>1990-04-16   </td><td>28.38904 days</td></tr>\n",
       "\t<tr><td>200913       </td><td>200913       </td><td>N            </td><td>N            </td><td>A78331       </td><td>CARR103      </td><td>1            </td><td>0            </td><td>87           </td><td>95           </td><td>...          </td><td>0            </td><td>0            </td><td>1328         </td><td>0            </td><td>M            </td><td>1990         </td><td> 2           </td><td>17           </td><td>1990-02-17   </td><td>28.54795 days</td></tr>\n",
       "\t<tr><td>200913       </td><td>200913       </td><td>N            </td><td>N            </td><td>A78338       </td><td>CARR63       </td><td>1            </td><td>0            </td><td>83           </td><td>76           </td><td>...          </td><td>0            </td><td>0            </td><td>1299         </td><td>0            </td><td>M            </td><td>1990         </td><td> 1           </td><td>18           </td><td>1990-01-18   </td><td>28.63014 days</td></tr>\n",
       "\t<tr><td>200913       </td><td>200913       </td><td>N            </td><td>N            </td><td>A78418       </td><td>CARR42       </td><td>1            </td><td>0            </td><td>83           </td><td>91           </td><td>...          </td><td>0            </td><td>0            </td><td>1244         </td><td>0            </td><td>F            </td><td>1990         </td><td>10           </td><td> 8           </td><td>1990-10-08   </td><td>27.90959 days</td></tr>\n",
       "\t<tr><td>200913       </td><td>200913       </td><td>N            </td><td>N            </td><td>A78420       </td><td>CARR62       </td><td>1            </td><td>0            </td><td>86           </td><td>88           </td><td>...          </td><td>0            </td><td>0            </td><td>1328         </td><td>0            </td><td>M            </td><td>1990         </td><td> 1           </td><td>27           </td><td>1990-01-27   </td><td>28.60548 days</td></tr>\n",
       "\t<tr><td>200913       </td><td>200913       </td><td>N            </td><td>N            </td><td>A78704       </td><td>CARR84       </td><td>1            </td><td>0            </td><td>82           </td><td>77           </td><td>...          </td><td>0            </td><td>0            </td><td>1195         </td><td>0            </td><td>M            </td><td>1989         </td><td> 2           </td><td> 5           </td><td>1989-02-05   </td><td>29.58082 days</td></tr>\n",
       "\t<tr><td>200913       </td><td>200913       </td><td>N            </td><td>N            </td><td>A78714       </td><td>CARR62       </td><td>1            </td><td>0            </td><td>91           </td><td>             </td><td>...          </td><td>0            </td><td>0            </td><td>1192         </td><td>0            </td><td>M            </td><td>1990         </td><td> 9           </td><td>20           </td><td>1990-09-20   </td><td>27.95890 days</td></tr>\n",
       "\t<tr><td>200913       </td><td>200913       </td><td>N            </td><td>N            </td><td>A79034       </td><td>CARR103      </td><td>1            </td><td>0            </td><td>85           </td><td>93           </td><td>...          </td><td>0            </td><td>0            </td><td>1263         </td><td>0            </td><td>F            </td><td>1991         </td><td> 9           </td><td> 1           </td><td>1991-09-01   </td><td>27.01096 days</td></tr>\n",
       "\t<tr><td>200913       </td><td>200913       </td><td>N            </td><td>N            </td><td>A79046       </td><td>CARR103      </td><td>1            </td><td>0            </td><td>80           </td><td>77           </td><td>...          </td><td>0            </td><td>0            </td><td>1205         </td><td>0            </td><td>M            </td><td>1990         </td><td>10           </td><td>22           </td><td>1990-10-22   </td><td>27.87123 days</td></tr>\n",
       "\t<tr><td>200913       </td><td>200913       </td><td>N            </td><td>N            </td><td>A79102       </td><td>CARR108      </td><td>1            </td><td>0            </td><td>90           </td><td>86           </td><td>...          </td><td>0            </td><td>0            </td><td>1426         </td><td>0            </td><td>F            </td><td>1991         </td><td> 7           </td><td>15           </td><td>1991-07-15   </td><td>27.14247 days</td></tr>\n",
       "\t<tr><td>200913       </td><td>200913       </td><td>N            </td><td>N            </td><td>A79107       </td><td>CARR42       </td><td>1            </td><td>0            </td><td>91           </td><td>90           </td><td>...          </td><td>0            </td><td>0            </td><td>1296         </td><td>0            </td><td>F            </td><td>1990         </td><td> 5           </td><td>24           </td><td>1990-05-24   </td><td>28.28493 days</td></tr>\n",
       "\t<tr><td>200913       </td><td>200913       </td><td>N            </td><td>N            </td><td>A79174       </td><td>CARR66       </td><td>1            </td><td>0            </td><td>83           </td><td>77           </td><td>...          </td><td>0            </td><td>0            </td><td>1204         </td><td>0            </td><td>M            </td><td>1991         </td><td> 7           </td><td>15           </td><td>1991-07-15   </td><td>27.14247 days</td></tr>\n",
       "\t<tr><td>200913       </td><td>200913       </td><td>N            </td><td>N            </td><td>A79188       </td><td>CARR103      </td><td>1            </td><td>0            </td><td>99           </td><td>100          </td><td>...          </td><td>0            </td><td>0            </td><td>1477         </td><td>0            </td><td>F            </td><td>1990         </td><td>10           </td><td>22           </td><td>1990-10-22   </td><td>27.87123 days</td></tr>\n",
       "\t<tr><td>200913       </td><td>200913       </td><td>N            </td><td>N            </td><td>A79284       </td><td>CARR88       </td><td>1            </td><td>0            </td><td>92           </td><td>             </td><td>...          </td><td>0            </td><td>0            </td><td>1332         </td><td>0            </td><td>F            </td><td>1990         </td><td>11           </td><td> 2           </td><td>1990-11-02   </td><td>27.84110 days</td></tr>\n",
       "\t<tr><td>200913       </td><td>200913       </td><td>N            </td><td>N            </td><td>A85488       </td><td>CARR2        </td><td>1            </td><td>1            </td><td>76.347       </td><td>83           </td><td>...          </td><td>0            </td><td>0            </td><td>1159         </td><td>0            </td><td>M            </td><td>1989         </td><td> 7           </td><td>14           </td><td>1989-07-14   </td><td>29.14521 days</td></tr>\n",
       "\t<tr><td>200913       </td><td>200913       </td><td>N            </td><td>N            </td><td>A85866       </td><td>CARR64       </td><td>1            </td><td>1            </td><td>             </td><td>87           </td><td>...          </td><td>0            </td><td>0            </td><td>1414         </td><td>0            </td><td>M            </td><td>1990         </td><td> 8           </td><td>24           </td><td>1990-08-24   </td><td>28.03288 days</td></tr>\n",
       "\t<tr><td>200913       </td><td>200913       </td><td>N            </td><td>N            </td><td>A88304       </td><td>CARR54       </td><td>1            </td><td>0            </td><td>             </td><td>95           </td><td>...          </td><td>0            </td><td>0            </td><td>1339         </td><td>0            </td><td>F            </td><td>1990         </td><td> 3           </td><td>19           </td><td>1990-03-19   </td><td>28.46575 days</td></tr>\n",
       "\t<tr><td>200913       </td><td>200913       </td><td>N            </td><td>N            </td><td>A90743       </td><td>CARR63       </td><td>1            </td><td>1            </td><td>92.023       </td><td>93           </td><td>...          </td><td>0            </td><td>0            </td><td>1464         </td><td>0            </td><td>M            </td><td>1989         </td><td> 2           </td><td>13           </td><td>1989-02-13   </td><td>29.55890 days</td></tr>\n",
       "\t<tr><td>200913       </td><td>200913       </td><td>N            </td><td>N            </td><td>A91114       </td><td>CARR114      </td><td>1            </td><td>1            </td><td>83.25        </td><td>82           </td><td>...          </td><td>0            </td><td>0            </td><td>1064         </td><td>0            </td><td>M            </td><td>1990         </td><td> 4           </td><td>14           </td><td>1990-04-14   </td><td>28.39452 days</td></tr>\n",
       "\t<tr><td>200913       </td><td>200913       </td><td>N            </td><td>N            </td><td>A91188       </td><td>CARR83       </td><td>1            </td><td>1            </td><td>             </td><td>89           </td><td>...          </td><td>0            </td><td>0            </td><td>1279         </td><td>0            </td><td>F            </td><td>1991         </td><td> 5           </td><td>26           </td><td>1991-05-26   </td><td>27.27945 days</td></tr>\n",
       "\t<tr><td>200913       </td><td>200913       </td><td>N            </td><td>N            </td><td>A92926       </td><td>CARR77       </td><td>1            </td><td>1            </td><td>92.785       </td><td>99           </td><td>...          </td><td>0            </td><td>0            </td><td>1361         </td><td>0            </td><td>F            </td><td>1990         </td><td> 1           </td><td> 6           </td><td>1990-01-06   </td><td>28.66301 days</td></tr>\n",
       "\t<tr><td>200913       </td><td>200913       </td><td>N            </td><td>N            </td><td>A94502       </td><td>CARR62       </td><td>1            </td><td>1            </td><td>76.847       </td><td>88           </td><td>...          </td><td>0            </td><td>0            </td><td>1116         </td><td>0            </td><td>M            </td><td>1990         </td><td> 6           </td><td>28           </td><td>1990-06-28   </td><td>28.18904 days</td></tr>\n",
       "\t<tr><td>200913       </td><td>200913       </td><td>N            </td><td>N            </td><td>A95007       </td><td>CARR103      </td><td>1            </td><td>0            </td><td>86           </td><td>82           </td><td>...          </td><td>0            </td><td>0            </td><td>1418         </td><td>0            </td><td>M            </td><td>1990         </td><td>11           </td><td> 3           </td><td>1990-11-03   </td><td>27.83836 days</td></tr>\n",
       "</tbody>\n",
       "</table>\n"
      ],
      "text/latex": [
       "\\begin{tabular}{r|llllllllllllllllllllllll}\n",
       " PeriodoAdmision & PeriodoAcad & Inscrito & TerminoIns & IdAlumno & idCarrera & Semestre & PrepaPrivada & PromPrepa & PromSecu & ... & MatAprAcum & MatAprPeriodo & PtjeAdmision & PromPeriodo & Genero & AñoNac & MesNac & DiaNac & fechaNac & edad\\\\\n",
       "\\hline\n",
       "\t 200513         & 200513         & N              & N              & A10718         & CARR84         & 1              & 1              & 85             & 10             & ...            &  0             & 0              & 1600           &  0.000         & M              & 1899           & 12             & 31             & 1899-12-31     & 118.73973 days\\\\\n",
       "\t 200513         & 200513         & N              & N              & A10720         & CARR84         & 1              & 1              &                &                & ...            &  0             & 0              &   NA           &  0.000         & M              & 1929           &  8             & 29             & 1929-08-29     &  89.06027 days\\\\\n",
       "\t 200513         & 200513         & S              & S              & A10764         & CARR66         & 1              & 0              & 78             & 82             & ...            &  6             & 6              & 1420           & 93.666         & M              & 1983           &  4             & 22             & 1983-04-22     &  35.37808 days\\\\\n",
       "\t 200513         & 200513         & N              & N              & A10767         & CARR84         & 1              & 0              &                &                & ...            &  0             & 0              &   NA           &  0.000         & M              & 1958           &  5             & 29             & 1958-05-29     &  60.29315 days\\\\\n",
       "\t 197913         & 200513         & S              & S              & A11766         & CARR42         & 3              & 0              & 8              & 9.6            & ...            & 21             & 4              &   NA           & 96.750         & F              & 1961           &  6             &  1             & 1961-06-01     &  57.28219 days\\\\\n",
       "\t 200513         & 200513         & N              & N              & A11782         & CARR84         & 1              & 0              &                &                & ...            &  0             & 0              &   NA           &  0.000         & M              & 1960           &  1             & 30             & 1960-01-30     &  58.61918 days\\\\\n",
       "\t 200513         & 200513         & N              & N              & A11784         & CARR84         & 1              & 0              &                &                & ...            &  0             & 0              &   NA           &  0.000         & M              & 1962           & 10             & 10             & 1962-10-10     &  55.92329 days\\\\\n",
       "\t 200511         & 200513         & N              & N              & A12733         & CARR2          & FD             & 0              & 79             & 94             & ...            &  1             & 0              &   NA           &  0.000         & M              & 1964           &  1             & 31             & 1964-01-31     &  54.61370 days\\\\\n",
       "\t 200512         & 200513         & N              & N              & A12737         & CARR88         & 8              & 0              & 87             &                & ...            & 49             & 0              &   NA           &  0.000         & F              & 1964           &  9             & 24             & 1964-09-24     &  53.96438 days\\\\\n",
       "\t 200513         & 200513         & N              & N              & A12739         & CARR84         & 1              & 0              &                &                & ...            &  0             & 0              &   NA           &  0.000         & M              & 1964           &  9             & 27             & 1964-09-27     &  53.95616 days\\\\\n",
       "\t 200513         & 200513         & N              & N              & A12800         & CARR84         & 1              & 0              &                &                & ...            &  0             & 0              &   NA           &  0.000         & M              & 1964           &  7             &  3             & 1964-07-03     &  54.19178 days\\\\\n",
       "\t 200513         & 200513         & N              & N              & A13030         & CARR75         & CA             & 0              & 74             & 93             & ...            & 57             & 0              & 1579           &  0.000         & M              & 1970           &  5             &  2             & 1970-05-02     &  48.35890 days\\\\\n",
       "\t 199611         & 200513         & S              & S              & A13044         & CARR103        & 1              & 0              & 82             & 82             & ...            & 26             & 7              & 1359           & 87.285         & M              & 1970           & 11             &  9             & 1970-11-09     &  47.83562 days\\\\\n",
       "\t 200511         & 200513         & S              & S              & A13280         & CARR2          & 5              & 0              & 0              & 79             & ...            & 31             & 0              & 1335           & 10.000         & M              & 1974           &  1             &  7             & 1974-01-07     &  44.67123 days\\\\\n",
       "\t 200411         & 200513         & S              & S              & A13402         & CARR58         & 9              & 0              & 78             & 85             & ...            & 69             & 8              & 1207           & 90.625         & M              & 1975           &  4             & 21             & 1975-04-21     &  43.38630 days\\\\\n",
       "\t 200513         & 200513         & N              & N              & A13403         & CARR84         & 1              & 0              &                &                & ...            &  0             & 0              &   NA           &  0.000         & F              & 1975           &  7             & 23             & 1975-07-23     &  43.13151 days\\\\\n",
       "\t 200511         & 200513         & S              & S              & A13519         & CARR62         & 9              & 0              & 86             & 91             & ...            & 61             & 2              & 1203           & 84.500         & M              & 1975           &  6             &  7             & 1975-06-07     &  43.25753 days\\\\\n",
       "\t 200513         & 200513         & N              & N              & A13537         & CARR103        & 9              & 0              & 89             & 0              & ...            & 57             & 0              & 1275           &  0.000         & F              & 1976           &  3             & 22             & 1976-03-22     &  42.46575 days\\\\\n",
       "\t 199811         & 200513         & S              & S              & A13610         & CARR71         & 9              & 0              & 90             & 97             & ...            & 56             & 2              & 1291           & 58.666         & F              & 1975           &  4             & 30             & 1975-04-30     &  43.36164 days\\\\\n",
       "\t 200513         & 200513         & N              & N              & A13642         & CARR84         & 1              & 0              & 0              & 0              & ...            &  0             & 0              & 1320           &  0.000         & M              & 1970           & 12             &  1             & 1970-12-01     &  47.77534 days\\\\\n",
       "\t 200513         & 200513         & N              & N              & A13702         & CARR84         & 1              & 0              &                &                & ...            &  0             & 0              &   NA           &  0.000         & M              & 1966           & 10             & 26             & 1966-10-26     &  51.87671 days\\\\\n",
       "\t 200211         & 200513         & S              & S              & A13743         & CARR63         & 9              & 0              & 70             & 70             & ...            & 59             & 3              & 1388           & 64.750         & M              & 1974           &  2             & 24             & 1974-02-24     &  44.53973 days\\\\\n",
       "\t 200513         & 200513         & N              & N              & A14735         & CARR84         & 1              & 0              &                &                & ...            &  0             & 0              &   NA           &  0.000         & M              & 1964           &  6             & 15             & 1964-06-15     &  54.24110 days\\\\\n",
       "\t 200513         & 200513         & S              & S              & A14738         & CARR63         & 1              & 1              & 90             & 99             & ...            &  4             & 4              &   NA           & 78.500         & M              & 1965           &  4             & 20             & 1965-04-20     &  53.39452 days\\\\\n",
       "\t 200513         & 200513         & N              & N              & A14744         & CARR84         & 1              & 0              &                &                & ...            &  0             & 0              &   NA           &  0.000         & F              & 1966           & 11             &  5             & 1966-11-05     &  51.84932 days\\\\\n",
       "\t 200311         & 200513         & S              & S              & A14855         & CARR110        & 5              & 1              &                &                & ...            & 67             & 2              &   NA           & 97.500         & F              & 1973           &  1             &  1             & 1973-01-01     &  45.68767 days\\\\\n",
       "\t 200513         & 200513         & N              & N              & A14895         & CARR84         & 1              & 0              &                &                & ...            &  0             & 0              &   NA           &  0.000         & F              & 1970           &  2             & 20             & 1970-02-20     &  48.55342 days\\\\\n",
       "\t 200313         & 200513         & N              & N              & A15139         & CARR62         & 9              & 0              &                & 77             & ...            & 60             & 0              & 1163           &  0.000         & M              & 1981           &  9             &  7             & 1981-09-07     &  37.00000 days\\\\\n",
       "\t 200113         & 200513         & N              & N              & A15153         & CARR103        & 6              & 1              & 89             & 99             & ...            & 38             & 0              &   NA           &  0.000         & F              & 1981           & 12             &  8             & 1981-12-08     &  36.74795 days\\\\\n",
       "\t 200213         & 200513         & N              & N              & A15166         & CARR85         & 9              & 1              & 78             & 84             & ...            & 55             & 0              &   NA           &  0.000         & M              & 1982           &  2             &  4             & 1982-02-04     &  36.58904 days\\\\\n",
       "\t ... & ... & ... & ... & ... & ... & ... & ... & ... & ... &     & ... & ... & ... & ... & ... & ... & ... & ... & ... & ...\\\\\n",
       "\t 200913        & 200913        & N             & N             & A77758        & CARR112       & 1             & 0             & 84            & 92            & ...           & 0             & 0             & 1384          & 0             & M             & 1991          & 10            & 18            & 1991-10-18    & 26.88219 days\\\\\n",
       "\t 200913        & 200913        & N             & N             & A77790        & CARR103       & 1             & 0             & 98            & 93            & ...           & 0             & 0             & 1323          & 0             & F             & 1990          &  1            &  2            & 1990-01-02    & 28.67397 days\\\\\n",
       "\t 200913        & 200913        & N             & N             & A77803        & CARR2         & 1             & 0             & 93            & 95            & ...           & 0             & 0             & 1238          & 0             & M             & 1990          &  2            &  2            & 1990-02-02    & 28.58904 days\\\\\n",
       "\t 200913        & 200913        & N             & N             & A77805        & CARR103       & 1             & 0             & 94            & 96            & ...           & 0             & 0             & 1364          & 0             & F             & 1989          & 10            & 27            & 1989-10-27    & 28.85753 days\\\\\n",
       "\t 200913        & 200913        & N             & N             & A77850        & CARR63        & 1             & 0             & 84            & 89            & ...           & 0             & 0             & 1305          & 0             & M             & 1990          &  7            & 27            & 1990-07-27    & 28.10959 days\\\\\n",
       "\t 200913        & 200913        & N             & N             & A77876        & CARR84        & 1             & 0             & 82            & 89            & ...           & 0             & 0             & 1385          & 0             & M             & 1990          &  8            & 12            & 1990-08-12    & 28.06575 days\\\\\n",
       "\t 200913        & 200913        & N             & N             & A78313        & CARR42        & 1             & 0             & 100           & 99            & ...           & 0             & 0             & 1268          & 0             & F             & 1990          &  3            & 27            & 1990-03-27    & 28.44384 days\\\\\n",
       "\t 200913        & 200913        & N             & N             & A78330        & CARR62        & 1             & 0             & 83            & 76            & ...           & 0             & 0             & 1325          & 0             & M             & 1990          &  4            & 16            & 1990-04-16    & 28.38904 days\\\\\n",
       "\t 200913        & 200913        & N             & N             & A78331        & CARR103       & 1             & 0             & 87            & 95            & ...           & 0             & 0             & 1328          & 0             & M             & 1990          &  2            & 17            & 1990-02-17    & 28.54795 days\\\\\n",
       "\t 200913        & 200913        & N             & N             & A78338        & CARR63        & 1             & 0             & 83            & 76            & ...           & 0             & 0             & 1299          & 0             & M             & 1990          &  1            & 18            & 1990-01-18    & 28.63014 days\\\\\n",
       "\t 200913        & 200913        & N             & N             & A78418        & CARR42        & 1             & 0             & 83            & 91            & ...           & 0             & 0             & 1244          & 0             & F             & 1990          & 10            &  8            & 1990-10-08    & 27.90959 days\\\\\n",
       "\t 200913        & 200913        & N             & N             & A78420        & CARR62        & 1             & 0             & 86            & 88            & ...           & 0             & 0             & 1328          & 0             & M             & 1990          &  1            & 27            & 1990-01-27    & 28.60548 days\\\\\n",
       "\t 200913        & 200913        & N             & N             & A78704        & CARR84        & 1             & 0             & 82            & 77            & ...           & 0             & 0             & 1195          & 0             & M             & 1989          &  2            &  5            & 1989-02-05    & 29.58082 days\\\\\n",
       "\t 200913        & 200913        & N             & N             & A78714        & CARR62        & 1             & 0             & 91            &               & ...           & 0             & 0             & 1192          & 0             & M             & 1990          &  9            & 20            & 1990-09-20    & 27.95890 days\\\\\n",
       "\t 200913        & 200913        & N             & N             & A79034        & CARR103       & 1             & 0             & 85            & 93            & ...           & 0             & 0             & 1263          & 0             & F             & 1991          &  9            &  1            & 1991-09-01    & 27.01096 days\\\\\n",
       "\t 200913        & 200913        & N             & N             & A79046        & CARR103       & 1             & 0             & 80            & 77            & ...           & 0             & 0             & 1205          & 0             & M             & 1990          & 10            & 22            & 1990-10-22    & 27.87123 days\\\\\n",
       "\t 200913        & 200913        & N             & N             & A79102        & CARR108       & 1             & 0             & 90            & 86            & ...           & 0             & 0             & 1426          & 0             & F             & 1991          &  7            & 15            & 1991-07-15    & 27.14247 days\\\\\n",
       "\t 200913        & 200913        & N             & N             & A79107        & CARR42        & 1             & 0             & 91            & 90            & ...           & 0             & 0             & 1296          & 0             & F             & 1990          &  5            & 24            & 1990-05-24    & 28.28493 days\\\\\n",
       "\t 200913        & 200913        & N             & N             & A79174        & CARR66        & 1             & 0             & 83            & 77            & ...           & 0             & 0             & 1204          & 0             & M             & 1991          &  7            & 15            & 1991-07-15    & 27.14247 days\\\\\n",
       "\t 200913        & 200913        & N             & N             & A79188        & CARR103       & 1             & 0             & 99            & 100           & ...           & 0             & 0             & 1477          & 0             & F             & 1990          & 10            & 22            & 1990-10-22    & 27.87123 days\\\\\n",
       "\t 200913        & 200913        & N             & N             & A79284        & CARR88        & 1             & 0             & 92            &               & ...           & 0             & 0             & 1332          & 0             & F             & 1990          & 11            &  2            & 1990-11-02    & 27.84110 days\\\\\n",
       "\t 200913        & 200913        & N             & N             & A85488        & CARR2         & 1             & 1             & 76.347        & 83            & ...           & 0             & 0             & 1159          & 0             & M             & 1989          &  7            & 14            & 1989-07-14    & 29.14521 days\\\\\n",
       "\t 200913        & 200913        & N             & N             & A85866        & CARR64        & 1             & 1             &               & 87            & ...           & 0             & 0             & 1414          & 0             & M             & 1990          &  8            & 24            & 1990-08-24    & 28.03288 days\\\\\n",
       "\t 200913        & 200913        & N             & N             & A88304        & CARR54        & 1             & 0             &               & 95            & ...           & 0             & 0             & 1339          & 0             & F             & 1990          &  3            & 19            & 1990-03-19    & 28.46575 days\\\\\n",
       "\t 200913        & 200913        & N             & N             & A90743        & CARR63        & 1             & 1             & 92.023        & 93            & ...           & 0             & 0             & 1464          & 0             & M             & 1989          &  2            & 13            & 1989-02-13    & 29.55890 days\\\\\n",
       "\t 200913        & 200913        & N             & N             & A91114        & CARR114       & 1             & 1             & 83.25         & 82            & ...           & 0             & 0             & 1064          & 0             & M             & 1990          &  4            & 14            & 1990-04-14    & 28.39452 days\\\\\n",
       "\t 200913        & 200913        & N             & N             & A91188        & CARR83        & 1             & 1             &               & 89            & ...           & 0             & 0             & 1279          & 0             & F             & 1991          &  5            & 26            & 1991-05-26    & 27.27945 days\\\\\n",
       "\t 200913        & 200913        & N             & N             & A92926        & CARR77        & 1             & 1             & 92.785        & 99            & ...           & 0             & 0             & 1361          & 0             & F             & 1990          &  1            &  6            & 1990-01-06    & 28.66301 days\\\\\n",
       "\t 200913        & 200913        & N             & N             & A94502        & CARR62        & 1             & 1             & 76.847        & 88            & ...           & 0             & 0             & 1116          & 0             & M             & 1990          &  6            & 28            & 1990-06-28    & 28.18904 days\\\\\n",
       "\t 200913        & 200913        & N             & N             & A95007        & CARR103       & 1             & 0             & 86            & 82            & ...           & 0             & 0             & 1418          & 0             & M             & 1990          & 11            &  3            & 1990-11-03    & 27.83836 days\\\\\n",
       "\\end{tabular}\n"
      ],
      "text/markdown": [
       "\n",
       "PeriodoAdmision | PeriodoAcad | Inscrito | TerminoIns | IdAlumno | idCarrera | Semestre | PrepaPrivada | PromPrepa | PromSecu | ... | MatAprAcum | MatAprPeriodo | PtjeAdmision | PromPeriodo | Genero | AñoNac | MesNac | DiaNac | fechaNac | edad | \n",
       "|---|---|---|---|---|---|---|---|---|---|---|---|---|---|---|---|---|---|---|---|---|---|---|---|---|---|---|---|---|---|---|---|---|---|---|---|---|---|---|---|---|---|---|---|---|---|---|---|---|---|---|---|---|---|---|---|---|---|---|---|---|\n",
       "| 200513         | 200513         | N              | N              | A10718         | CARR84         | 1              | 1              | 85             | 10             | ...            |  0             | 0              | 1600           |  0.000         | M              | 1899           | 12             | 31             | 1899-12-31     | 118.73973 days | \n",
       "| 200513         | 200513         | N              | N              | A10720         | CARR84         | 1              | 1              |                |                | ...            |  0             | 0              |   NA           |  0.000         | M              | 1929           |  8             | 29             | 1929-08-29     |  89.06027 days | \n",
       "| 200513         | 200513         | S              | S              | A10764         | CARR66         | 1              | 0              | 78             | 82             | ...            |  6             | 6              | 1420           | 93.666         | M              | 1983           |  4             | 22             | 1983-04-22     |  35.37808 days | \n",
       "| 200513         | 200513         | N              | N              | A10767         | CARR84         | 1              | 0              |                |                | ...            |  0             | 0              |   NA           |  0.000         | M              | 1958           |  5             | 29             | 1958-05-29     |  60.29315 days | \n",
       "| 197913         | 200513         | S              | S              | A11766         | CARR42         | 3              | 0              | 8              | 9.6            | ...            | 21             | 4              |   NA           | 96.750         | F              | 1961           |  6             |  1             | 1961-06-01     |  57.28219 days | \n",
       "| 200513         | 200513         | N              | N              | A11782         | CARR84         | 1              | 0              |                |                | ...            |  0             | 0              |   NA           |  0.000         | M              | 1960           |  1             | 30             | 1960-01-30     |  58.61918 days | \n",
       "| 200513         | 200513         | N              | N              | A11784         | CARR84         | 1              | 0              |                |                | ...            |  0             | 0              |   NA           |  0.000         | M              | 1962           | 10             | 10             | 1962-10-10     |  55.92329 days | \n",
       "| 200511         | 200513         | N              | N              | A12733         | CARR2          | FD             | 0              | 79             | 94             | ...            |  1             | 0              |   NA           |  0.000         | M              | 1964           |  1             | 31             | 1964-01-31     |  54.61370 days | \n",
       "| 200512         | 200513         | N              | N              | A12737         | CARR88         | 8              | 0              | 87             |                | ...            | 49             | 0              |   NA           |  0.000         | F              | 1964           |  9             | 24             | 1964-09-24     |  53.96438 days | \n",
       "| 200513         | 200513         | N              | N              | A12739         | CARR84         | 1              | 0              |                |                | ...            |  0             | 0              |   NA           |  0.000         | M              | 1964           |  9             | 27             | 1964-09-27     |  53.95616 days | \n",
       "| 200513         | 200513         | N              | N              | A12800         | CARR84         | 1              | 0              |                |                | ...            |  0             | 0              |   NA           |  0.000         | M              | 1964           |  7             |  3             | 1964-07-03     |  54.19178 days | \n",
       "| 200513         | 200513         | N              | N              | A13030         | CARR75         | CA             | 0              | 74             | 93             | ...            | 57             | 0              | 1579           |  0.000         | M              | 1970           |  5             |  2             | 1970-05-02     |  48.35890 days | \n",
       "| 199611         | 200513         | S              | S              | A13044         | CARR103        | 1              | 0              | 82             | 82             | ...            | 26             | 7              | 1359           | 87.285         | M              | 1970           | 11             |  9             | 1970-11-09     |  47.83562 days | \n",
       "| 200511         | 200513         | S              | S              | A13280         | CARR2          | 5              | 0              | 0              | 79             | ...            | 31             | 0              | 1335           | 10.000         | M              | 1974           |  1             |  7             | 1974-01-07     |  44.67123 days | \n",
       "| 200411         | 200513         | S              | S              | A13402         | CARR58         | 9              | 0              | 78             | 85             | ...            | 69             | 8              | 1207           | 90.625         | M              | 1975           |  4             | 21             | 1975-04-21     |  43.38630 days | \n",
       "| 200513         | 200513         | N              | N              | A13403         | CARR84         | 1              | 0              |                |                | ...            |  0             | 0              |   NA           |  0.000         | F              | 1975           |  7             | 23             | 1975-07-23     |  43.13151 days | \n",
       "| 200511         | 200513         | S              | S              | A13519         | CARR62         | 9              | 0              | 86             | 91             | ...            | 61             | 2              | 1203           | 84.500         | M              | 1975           |  6             |  7             | 1975-06-07     |  43.25753 days | \n",
       "| 200513         | 200513         | N              | N              | A13537         | CARR103        | 9              | 0              | 89             | 0              | ...            | 57             | 0              | 1275           |  0.000         | F              | 1976           |  3             | 22             | 1976-03-22     |  42.46575 days | \n",
       "| 199811         | 200513         | S              | S              | A13610         | CARR71         | 9              | 0              | 90             | 97             | ...            | 56             | 2              | 1291           | 58.666         | F              | 1975           |  4             | 30             | 1975-04-30     |  43.36164 days | \n",
       "| 200513         | 200513         | N              | N              | A13642         | CARR84         | 1              | 0              | 0              | 0              | ...            |  0             | 0              | 1320           |  0.000         | M              | 1970           | 12             |  1             | 1970-12-01     |  47.77534 days | \n",
       "| 200513         | 200513         | N              | N              | A13702         | CARR84         | 1              | 0              |                |                | ...            |  0             | 0              |   NA           |  0.000         | M              | 1966           | 10             | 26             | 1966-10-26     |  51.87671 days | \n",
       "| 200211         | 200513         | S              | S              | A13743         | CARR63         | 9              | 0              | 70             | 70             | ...            | 59             | 3              | 1388           | 64.750         | M              | 1974           |  2             | 24             | 1974-02-24     |  44.53973 days | \n",
       "| 200513         | 200513         | N              | N              | A14735         | CARR84         | 1              | 0              |                |                | ...            |  0             | 0              |   NA           |  0.000         | M              | 1964           |  6             | 15             | 1964-06-15     |  54.24110 days | \n",
       "| 200513         | 200513         | S              | S              | A14738         | CARR63         | 1              | 1              | 90             | 99             | ...            |  4             | 4              |   NA           | 78.500         | M              | 1965           |  4             | 20             | 1965-04-20     |  53.39452 days | \n",
       "| 200513         | 200513         | N              | N              | A14744         | CARR84         | 1              | 0              |                |                | ...            |  0             | 0              |   NA           |  0.000         | F              | 1966           | 11             |  5             | 1966-11-05     |  51.84932 days | \n",
       "| 200311         | 200513         | S              | S              | A14855         | CARR110        | 5              | 1              |                |                | ...            | 67             | 2              |   NA           | 97.500         | F              | 1973           |  1             |  1             | 1973-01-01     |  45.68767 days | \n",
       "| 200513         | 200513         | N              | N              | A14895         | CARR84         | 1              | 0              |                |                | ...            |  0             | 0              |   NA           |  0.000         | F              | 1970           |  2             | 20             | 1970-02-20     |  48.55342 days | \n",
       "| 200313         | 200513         | N              | N              | A15139         | CARR62         | 9              | 0              |                | 77             | ...            | 60             | 0              | 1163           |  0.000         | M              | 1981           |  9             |  7             | 1981-09-07     |  37.00000 days | \n",
       "| 200113         | 200513         | N              | N              | A15153         | CARR103        | 6              | 1              | 89             | 99             | ...            | 38             | 0              |   NA           |  0.000         | F              | 1981           | 12             |  8             | 1981-12-08     |  36.74795 days | \n",
       "| 200213         | 200513         | N              | N              | A15166         | CARR85         | 9              | 1              | 78             | 84             | ...            | 55             | 0              |   NA           |  0.000         | M              | 1982           |  2             |  4             | 1982-02-04     |  36.58904 days | \n",
       "| ... | ... | ... | ... | ... | ... | ... | ... | ... | ... |     | ... | ... | ... | ... | ... | ... | ... | ... | ... | ... | \n",
       "| 200913        | 200913        | N             | N             | A77758        | CARR112       | 1             | 0             | 84            | 92            | ...           | 0             | 0             | 1384          | 0             | M             | 1991          | 10            | 18            | 1991-10-18    | 26.88219 days | \n",
       "| 200913        | 200913        | N             | N             | A77790        | CARR103       | 1             | 0             | 98            | 93            | ...           | 0             | 0             | 1323          | 0             | F             | 1990          |  1            |  2            | 1990-01-02    | 28.67397 days | \n",
       "| 200913        | 200913        | N             | N             | A77803        | CARR2         | 1             | 0             | 93            | 95            | ...           | 0             | 0             | 1238          | 0             | M             | 1990          |  2            |  2            | 1990-02-02    | 28.58904 days | \n",
       "| 200913        | 200913        | N             | N             | A77805        | CARR103       | 1             | 0             | 94            | 96            | ...           | 0             | 0             | 1364          | 0             | F             | 1989          | 10            | 27            | 1989-10-27    | 28.85753 days | \n",
       "| 200913        | 200913        | N             | N             | A77850        | CARR63        | 1             | 0             | 84            | 89            | ...           | 0             | 0             | 1305          | 0             | M             | 1990          |  7            | 27            | 1990-07-27    | 28.10959 days | \n",
       "| 200913        | 200913        | N             | N             | A77876        | CARR84        | 1             | 0             | 82            | 89            | ...           | 0             | 0             | 1385          | 0             | M             | 1990          |  8            | 12            | 1990-08-12    | 28.06575 days | \n",
       "| 200913        | 200913        | N             | N             | A78313        | CARR42        | 1             | 0             | 100           | 99            | ...           | 0             | 0             | 1268          | 0             | F             | 1990          |  3            | 27            | 1990-03-27    | 28.44384 days | \n",
       "| 200913        | 200913        | N             | N             | A78330        | CARR62        | 1             | 0             | 83            | 76            | ...           | 0             | 0             | 1325          | 0             | M             | 1990          |  4            | 16            | 1990-04-16    | 28.38904 days | \n",
       "| 200913        | 200913        | N             | N             | A78331        | CARR103       | 1             | 0             | 87            | 95            | ...           | 0             | 0             | 1328          | 0             | M             | 1990          |  2            | 17            | 1990-02-17    | 28.54795 days | \n",
       "| 200913        | 200913        | N             | N             | A78338        | CARR63        | 1             | 0             | 83            | 76            | ...           | 0             | 0             | 1299          | 0             | M             | 1990          |  1            | 18            | 1990-01-18    | 28.63014 days | \n",
       "| 200913        | 200913        | N             | N             | A78418        | CARR42        | 1             | 0             | 83            | 91            | ...           | 0             | 0             | 1244          | 0             | F             | 1990          | 10            |  8            | 1990-10-08    | 27.90959 days | \n",
       "| 200913        | 200913        | N             | N             | A78420        | CARR62        | 1             | 0             | 86            | 88            | ...           | 0             | 0             | 1328          | 0             | M             | 1990          |  1            | 27            | 1990-01-27    | 28.60548 days | \n",
       "| 200913        | 200913        | N             | N             | A78704        | CARR84        | 1             | 0             | 82            | 77            | ...           | 0             | 0             | 1195          | 0             | M             | 1989          |  2            |  5            | 1989-02-05    | 29.58082 days | \n",
       "| 200913        | 200913        | N             | N             | A78714        | CARR62        | 1             | 0             | 91            |               | ...           | 0             | 0             | 1192          | 0             | M             | 1990          |  9            | 20            | 1990-09-20    | 27.95890 days | \n",
       "| 200913        | 200913        | N             | N             | A79034        | CARR103       | 1             | 0             | 85            | 93            | ...           | 0             | 0             | 1263          | 0             | F             | 1991          |  9            |  1            | 1991-09-01    | 27.01096 days | \n",
       "| 200913        | 200913        | N             | N             | A79046        | CARR103       | 1             | 0             | 80            | 77            | ...           | 0             | 0             | 1205          | 0             | M             | 1990          | 10            | 22            | 1990-10-22    | 27.87123 days | \n",
       "| 200913        | 200913        | N             | N             | A79102        | CARR108       | 1             | 0             | 90            | 86            | ...           | 0             | 0             | 1426          | 0             | F             | 1991          |  7            | 15            | 1991-07-15    | 27.14247 days | \n",
       "| 200913        | 200913        | N             | N             | A79107        | CARR42        | 1             | 0             | 91            | 90            | ...           | 0             | 0             | 1296          | 0             | F             | 1990          |  5            | 24            | 1990-05-24    | 28.28493 days | \n",
       "| 200913        | 200913        | N             | N             | A79174        | CARR66        | 1             | 0             | 83            | 77            | ...           | 0             | 0             | 1204          | 0             | M             | 1991          |  7            | 15            | 1991-07-15    | 27.14247 days | \n",
       "| 200913        | 200913        | N             | N             | A79188        | CARR103       | 1             | 0             | 99            | 100           | ...           | 0             | 0             | 1477          | 0             | F             | 1990          | 10            | 22            | 1990-10-22    | 27.87123 days | \n",
       "| 200913        | 200913        | N             | N             | A79284        | CARR88        | 1             | 0             | 92            |               | ...           | 0             | 0             | 1332          | 0             | F             | 1990          | 11            |  2            | 1990-11-02    | 27.84110 days | \n",
       "| 200913        | 200913        | N             | N             | A85488        | CARR2         | 1             | 1             | 76.347        | 83            | ...           | 0             | 0             | 1159          | 0             | M             | 1989          |  7            | 14            | 1989-07-14    | 29.14521 days | \n",
       "| 200913        | 200913        | N             | N             | A85866        | CARR64        | 1             | 1             |               | 87            | ...           | 0             | 0             | 1414          | 0             | M             | 1990          |  8            | 24            | 1990-08-24    | 28.03288 days | \n",
       "| 200913        | 200913        | N             | N             | A88304        | CARR54        | 1             | 0             |               | 95            | ...           | 0             | 0             | 1339          | 0             | F             | 1990          |  3            | 19            | 1990-03-19    | 28.46575 days | \n",
       "| 200913        | 200913        | N             | N             | A90743        | CARR63        | 1             | 1             | 92.023        | 93            | ...           | 0             | 0             | 1464          | 0             | M             | 1989          |  2            | 13            | 1989-02-13    | 29.55890 days | \n",
       "| 200913        | 200913        | N             | N             | A91114        | CARR114       | 1             | 1             | 83.25         | 82            | ...           | 0             | 0             | 1064          | 0             | M             | 1990          |  4            | 14            | 1990-04-14    | 28.39452 days | \n",
       "| 200913        | 200913        | N             | N             | A91188        | CARR83        | 1             | 1             |               | 89            | ...           | 0             | 0             | 1279          | 0             | F             | 1991          |  5            | 26            | 1991-05-26    | 27.27945 days | \n",
       "| 200913        | 200913        | N             | N             | A92926        | CARR77        | 1             | 1             | 92.785        | 99            | ...           | 0             | 0             | 1361          | 0             | F             | 1990          |  1            |  6            | 1990-01-06    | 28.66301 days | \n",
       "| 200913        | 200913        | N             | N             | A94502        | CARR62        | 1             | 1             | 76.847        | 88            | ...           | 0             | 0             | 1116          | 0             | M             | 1990          |  6            | 28            | 1990-06-28    | 28.18904 days | \n",
       "| 200913        | 200913        | N             | N             | A95007        | CARR103       | 1             | 0             | 86            | 82            | ...           | 0             | 0             | 1418          | 0             | M             | 1990          | 11            |  3            | 1990-11-03    | 27.83836 days | \n",
       "\n",
       "\n"
      ],
      "text/plain": [
       "      PeriodoAdmision PeriodoAcad Inscrito TerminoIns IdAlumno idCarrera\n",
       "1     200513          200513      N        N          A10718   CARR84   \n",
       "2     200513          200513      N        N          A10720   CARR84   \n",
       "3     200513          200513      S        S          A10764   CARR66   \n",
       "4     200513          200513      N        N          A10767   CARR84   \n",
       "5     197913          200513      S        S          A11766   CARR42   \n",
       "6     200513          200513      N        N          A11782   CARR84   \n",
       "7     200513          200513      N        N          A11784   CARR84   \n",
       "8     200511          200513      N        N          A12733   CARR2    \n",
       "9     200512          200513      N        N          A12737   CARR88   \n",
       "10    200513          200513      N        N          A12739   CARR84   \n",
       "11    200513          200513      N        N          A12800   CARR84   \n",
       "12    200513          200513      N        N          A13030   CARR75   \n",
       "13    199611          200513      S        S          A13044   CARR103  \n",
       "14    200511          200513      S        S          A13280   CARR2    \n",
       "15    200411          200513      S        S          A13402   CARR58   \n",
       "16    200513          200513      N        N          A13403   CARR84   \n",
       "17    200511          200513      S        S          A13519   CARR62   \n",
       "18    200513          200513      N        N          A13537   CARR103  \n",
       "19    199811          200513      S        S          A13610   CARR71   \n",
       "20    200513          200513      N        N          A13642   CARR84   \n",
       "21    200513          200513      N        N          A13702   CARR84   \n",
       "22    200211          200513      S        S          A13743   CARR63   \n",
       "23    200513          200513      N        N          A14735   CARR84   \n",
       "24    200513          200513      S        S          A14738   CARR63   \n",
       "25    200513          200513      N        N          A14744   CARR84   \n",
       "26    200311          200513      S        S          A14855   CARR110  \n",
       "27    200513          200513      N        N          A14895   CARR84   \n",
       "28    200313          200513      N        N          A15139   CARR62   \n",
       "29    200113          200513      N        N          A15153   CARR103  \n",
       "30    200213          200513      N        N          A15166   CARR85   \n",
       "...   ...             ...         ...      ...        ...      ...      \n",
       "75180 200913          200913      N        N          A77758   CARR112  \n",
       "75181 200913          200913      N        N          A77790   CARR103  \n",
       "75182 200913          200913      N        N          A77803   CARR2    \n",
       "75183 200913          200913      N        N          A77805   CARR103  \n",
       "75184 200913          200913      N        N          A77850   CARR63   \n",
       "75185 200913          200913      N        N          A77876   CARR84   \n",
       "75186 200913          200913      N        N          A78313   CARR42   \n",
       "75187 200913          200913      N        N          A78330   CARR62   \n",
       "75188 200913          200913      N        N          A78331   CARR103  \n",
       "75189 200913          200913      N        N          A78338   CARR63   \n",
       "75190 200913          200913      N        N          A78418   CARR42   \n",
       "75191 200913          200913      N        N          A78420   CARR62   \n",
       "75192 200913          200913      N        N          A78704   CARR84   \n",
       "75193 200913          200913      N        N          A78714   CARR62   \n",
       "75194 200913          200913      N        N          A79034   CARR103  \n",
       "75195 200913          200913      N        N          A79046   CARR103  \n",
       "75196 200913          200913      N        N          A79102   CARR108  \n",
       "75197 200913          200913      N        N          A79107   CARR42   \n",
       "75198 200913          200913      N        N          A79174   CARR66   \n",
       "75199 200913          200913      N        N          A79188   CARR103  \n",
       "75200 200913          200913      N        N          A79284   CARR88   \n",
       "75201 200913          200913      N        N          A85488   CARR2    \n",
       "75202 200913          200913      N        N          A85866   CARR64   \n",
       "75203 200913          200913      N        N          A88304   CARR54   \n",
       "75204 200913          200913      N        N          A90743   CARR63   \n",
       "75205 200913          200913      N        N          A91114   CARR114  \n",
       "75206 200913          200913      N        N          A91188   CARR83   \n",
       "75207 200913          200913      N        N          A92926   CARR77   \n",
       "75208 200913          200913      N        N          A94502   CARR62   \n",
       "75209 200913          200913      N        N          A95007   CARR103  \n",
       "      Semestre PrepaPrivada PromPrepa PromSecu ... MatAprAcum MatAprPeriodo\n",
       "1     1        1            85        10       ...  0         0            \n",
       "2     1        1                               ...  0         0            \n",
       "3     1        0            78        82       ...  6         6            \n",
       "4     1        0                               ...  0         0            \n",
       "5     3        0            8         9.6      ... 21         4            \n",
       "6     1        0                               ...  0         0            \n",
       "7     1        0                               ...  0         0            \n",
       "8     FD       0            79        94       ...  1         0            \n",
       "9     8        0            87                 ... 49         0            \n",
       "10    1        0                               ...  0         0            \n",
       "11    1        0                               ...  0         0            \n",
       "12    CA       0            74        93       ... 57         0            \n",
       "13    1        0            82        82       ... 26         7            \n",
       "14    5        0            0         79       ... 31         0            \n",
       "15    9        0            78        85       ... 69         8            \n",
       "16    1        0                               ...  0         0            \n",
       "17    9        0            86        91       ... 61         2            \n",
       "18    9        0            89        0        ... 57         0            \n",
       "19    9        0            90        97       ... 56         2            \n",
       "20    1        0            0         0        ...  0         0            \n",
       "21    1        0                               ...  0         0            \n",
       "22    9        0            70        70       ... 59         3            \n",
       "23    1        0                               ...  0         0            \n",
       "24    1        1            90        99       ...  4         4            \n",
       "25    1        0                               ...  0         0            \n",
       "26    5        1                               ... 67         2            \n",
       "27    1        0                               ...  0         0            \n",
       "28    9        0                      77       ... 60         0            \n",
       "29    6        1            89        99       ... 38         0            \n",
       "30    9        1            78        84       ... 55         0            \n",
       "...   ...      ...          ...       ...          ...        ...          \n",
       "75180 1        0            84        92       ... 0          0            \n",
       "75181 1        0            98        93       ... 0          0            \n",
       "75182 1        0            93        95       ... 0          0            \n",
       "75183 1        0            94        96       ... 0          0            \n",
       "75184 1        0            84        89       ... 0          0            \n",
       "75185 1        0            82        89       ... 0          0            \n",
       "75186 1        0            100       99       ... 0          0            \n",
       "75187 1        0            83        76       ... 0          0            \n",
       "75188 1        0            87        95       ... 0          0            \n",
       "75189 1        0            83        76       ... 0          0            \n",
       "75190 1        0            83        91       ... 0          0            \n",
       "75191 1        0            86        88       ... 0          0            \n",
       "75192 1        0            82        77       ... 0          0            \n",
       "75193 1        0            91                 ... 0          0            \n",
       "75194 1        0            85        93       ... 0          0            \n",
       "75195 1        0            80        77       ... 0          0            \n",
       "75196 1        0            90        86       ... 0          0            \n",
       "75197 1        0            91        90       ... 0          0            \n",
       "75198 1        0            83        77       ... 0          0            \n",
       "75199 1        0            99        100      ... 0          0            \n",
       "75200 1        0            92                 ... 0          0            \n",
       "75201 1        1            76.347    83       ... 0          0            \n",
       "75202 1        1                      87       ... 0          0            \n",
       "75203 1        0                      95       ... 0          0            \n",
       "75204 1        1            92.023    93       ... 0          0            \n",
       "75205 1        1            83.25     82       ... 0          0            \n",
       "75206 1        1                      89       ... 0          0            \n",
       "75207 1        1            92.785    99       ... 0          0            \n",
       "75208 1        1            76.847    88       ... 0          0            \n",
       "75209 1        0            86        82       ... 0          0            \n",
       "      PtjeAdmision PromPeriodo Genero AñoNac MesNac DiaNac fechaNac  \n",
       "1     1600          0.000      M      1899   12     31     1899-12-31\n",
       "2       NA          0.000      M      1929    8     29     1929-08-29\n",
       "3     1420         93.666      M      1983    4     22     1983-04-22\n",
       "4       NA          0.000      M      1958    5     29     1958-05-29\n",
       "5       NA         96.750      F      1961    6      1     1961-06-01\n",
       "6       NA          0.000      M      1960    1     30     1960-01-30\n",
       "7       NA          0.000      M      1962   10     10     1962-10-10\n",
       "8       NA          0.000      M      1964    1     31     1964-01-31\n",
       "9       NA          0.000      F      1964    9     24     1964-09-24\n",
       "10      NA          0.000      M      1964    9     27     1964-09-27\n",
       "11      NA          0.000      M      1964    7      3     1964-07-03\n",
       "12    1579          0.000      M      1970    5      2     1970-05-02\n",
       "13    1359         87.285      M      1970   11      9     1970-11-09\n",
       "14    1335         10.000      M      1974    1      7     1974-01-07\n",
       "15    1207         90.625      M      1975    4     21     1975-04-21\n",
       "16      NA          0.000      F      1975    7     23     1975-07-23\n",
       "17    1203         84.500      M      1975    6      7     1975-06-07\n",
       "18    1275          0.000      F      1976    3     22     1976-03-22\n",
       "19    1291         58.666      F      1975    4     30     1975-04-30\n",
       "20    1320          0.000      M      1970   12      1     1970-12-01\n",
       "21      NA          0.000      M      1966   10     26     1966-10-26\n",
       "22    1388         64.750      M      1974    2     24     1974-02-24\n",
       "23      NA          0.000      M      1964    6     15     1964-06-15\n",
       "24      NA         78.500      M      1965    4     20     1965-04-20\n",
       "25      NA          0.000      F      1966   11      5     1966-11-05\n",
       "26      NA         97.500      F      1973    1      1     1973-01-01\n",
       "27      NA          0.000      F      1970    2     20     1970-02-20\n",
       "28    1163          0.000      M      1981    9      7     1981-09-07\n",
       "29      NA          0.000      F      1981   12      8     1981-12-08\n",
       "30      NA          0.000      M      1982    2      4     1982-02-04\n",
       "...   ...          ...         ...    ...    ...    ...    ...       \n",
       "75180 1384         0           M      1991   10     18     1991-10-18\n",
       "75181 1323         0           F      1990    1      2     1990-01-02\n",
       "75182 1238         0           M      1990    2      2     1990-02-02\n",
       "75183 1364         0           F      1989   10     27     1989-10-27\n",
       "75184 1305         0           M      1990    7     27     1990-07-27\n",
       "75185 1385         0           M      1990    8     12     1990-08-12\n",
       "75186 1268         0           F      1990    3     27     1990-03-27\n",
       "75187 1325         0           M      1990    4     16     1990-04-16\n",
       "75188 1328         0           M      1990    2     17     1990-02-17\n",
       "75189 1299         0           M      1990    1     18     1990-01-18\n",
       "75190 1244         0           F      1990   10      8     1990-10-08\n",
       "75191 1328         0           M      1990    1     27     1990-01-27\n",
       "75192 1195         0           M      1989    2      5     1989-02-05\n",
       "75193 1192         0           M      1990    9     20     1990-09-20\n",
       "75194 1263         0           F      1991    9      1     1991-09-01\n",
       "75195 1205         0           M      1990   10     22     1990-10-22\n",
       "75196 1426         0           F      1991    7     15     1991-07-15\n",
       "75197 1296         0           F      1990    5     24     1990-05-24\n",
       "75198 1204         0           M      1991    7     15     1991-07-15\n",
       "75199 1477         0           F      1990   10     22     1990-10-22\n",
       "75200 1332         0           F      1990   11      2     1990-11-02\n",
       "75201 1159         0           M      1989    7     14     1989-07-14\n",
       "75202 1414         0           M      1990    8     24     1990-08-24\n",
       "75203 1339         0           F      1990    3     19     1990-03-19\n",
       "75204 1464         0           M      1989    2     13     1989-02-13\n",
       "75205 1064         0           M      1990    4     14     1990-04-14\n",
       "75206 1279         0           F      1991    5     26     1991-05-26\n",
       "75207 1361         0           F      1990    1      6     1990-01-06\n",
       "75208 1116         0           M      1990    6     28     1990-06-28\n",
       "75209 1418         0           M      1990   11      3     1990-11-03\n",
       "      edad          \n",
       "1     118.73973 days\n",
       "2      89.06027 days\n",
       "3      35.37808 days\n",
       "4      60.29315 days\n",
       "5      57.28219 days\n",
       "6      58.61918 days\n",
       "7      55.92329 days\n",
       "8      54.61370 days\n",
       "9      53.96438 days\n",
       "10     53.95616 days\n",
       "11     54.19178 days\n",
       "12     48.35890 days\n",
       "13     47.83562 days\n",
       "14     44.67123 days\n",
       "15     43.38630 days\n",
       "16     43.13151 days\n",
       "17     43.25753 days\n",
       "18     42.46575 days\n",
       "19     43.36164 days\n",
       "20     47.77534 days\n",
       "21     51.87671 days\n",
       "22     44.53973 days\n",
       "23     54.24110 days\n",
       "24     53.39452 days\n",
       "25     51.84932 days\n",
       "26     45.68767 days\n",
       "27     48.55342 days\n",
       "28     37.00000 days\n",
       "29     36.74795 days\n",
       "30     36.58904 days\n",
       "...   ...           \n",
       "75180 26.88219 days \n",
       "75181 28.67397 days \n",
       "75182 28.58904 days \n",
       "75183 28.85753 days \n",
       "75184 28.10959 days \n",
       "75185 28.06575 days \n",
       "75186 28.44384 days \n",
       "75187 28.38904 days \n",
       "75188 28.54795 days \n",
       "75189 28.63014 days \n",
       "75190 27.90959 days \n",
       "75191 28.60548 days \n",
       "75192 29.58082 days \n",
       "75193 27.95890 days \n",
       "75194 27.01096 days \n",
       "75195 27.87123 days \n",
       "75196 27.14247 days \n",
       "75197 28.28493 days \n",
       "75198 27.14247 days \n",
       "75199 27.87123 days \n",
       "75200 27.84110 days \n",
       "75201 29.14521 days \n",
       "75202 28.03288 days \n",
       "75203 28.46575 days \n",
       "75204 29.55890 days \n",
       "75205 28.39452 days \n",
       "75206 27.27945 days \n",
       "75207 28.66301 days \n",
       "75208 28.18904 days \n",
       "75209 27.83836 days "
      ]
     },
     "metadata": {},
     "output_type": "display_data"
    }
   ],
   "source": [
    "setwd('C:/Users/a.de.la.cruz/Documents/tallerR/datasets')\n",
    "infoacad <- read.csv('InfoAcad_EM11_subset.csv')\n",
    "\n",
    "#Crear un nuevo vector con la fecha de nacimiento como string\n",
    "infoacad$fechaNac <- paste(infoacad$MesNac, '/',infoacad$DiaNac,'/',infoacad$AñoNac, sep='')\n",
    "\n",
    "#Convertir a dias\n",
    "infoacad$fechaNac <- as.Date(infoacad$fechaNac, \"%m/ %d/ %Y\")\n",
    "\n",
    "#Edad es igual a Dia actual menos fecha de nacimiento, el resultado es en dias\n",
    "infoacad$edad <- (Sys.Date() -infoacad$fechaNac) / 365\n",
    "infoacad"
   ]
  },
  {
   "cell_type": "code",
   "execution_count": 3,
   "metadata": {},
   "outputs": [
    {
     "data": {
      "text/html": [
       "<ol class=list-inline>\n",
       "\t<li>'airquality.csv'</li>\n",
       "\t<li>'InfoAcad_EM11_subset.csv'</li>\n",
       "\t<li>'InfoAcad_excel.xlsx'</li>\n",
       "\t<li>'Medallistas Olimpicos.xlsx'</li>\n",
       "\t<li>'ST_Data.csv'</li>\n",
       "</ol>\n"
      ],
      "text/latex": [
       "\\begin{enumerate*}\n",
       "\\item 'airquality.csv'\n",
       "\\item 'InfoAcad\\_EM11\\_subset.csv'\n",
       "\\item 'InfoAcad\\_excel.xlsx'\n",
       "\\item 'Medallistas Olimpicos.xlsx'\n",
       "\\item 'ST\\_Data.csv'\n",
       "\\end{enumerate*}\n"
      ],
      "text/markdown": [
       "1. 'airquality.csv'\n",
       "2. 'InfoAcad_EM11_subset.csv'\n",
       "3. 'InfoAcad_excel.xlsx'\n",
       "4. 'Medallistas Olimpicos.xlsx'\n",
       "5. 'ST_Data.csv'\n",
       "\n",
       "\n"
      ],
      "text/plain": [
       "[1] \"airquality.csv\"             \"InfoAcad_EM11_subset.csv\"  \n",
       "[3] \"InfoAcad_excel.xlsx\"        \"Medallistas Olimpicos.xlsx\"\n",
       "[5] \"ST_Data.csv\"               "
      ]
     },
     "metadata": {},
     "output_type": "display_data"
    }
   ],
   "source": [
    "dir()\n"
   ]
  },
  {
   "cell_type": "code",
   "execution_count": null,
   "metadata": {},
   "outputs": [],
   "source": []
  }
 ],
 "metadata": {
  "kernelspec": {
   "display_name": "R",
   "language": "R",
   "name": "ir"
  },
  "language_info": {
   "codemirror_mode": "r",
   "file_extension": ".r",
   "mimetype": "text/x-r-source",
   "name": "R",
   "pygments_lexer": "r",
   "version": "3.4.3"
  }
 },
 "nbformat": 4,
 "nbformat_minor": 2
}
