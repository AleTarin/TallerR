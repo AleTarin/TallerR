{
 "cells": [
  {
   "cell_type": "markdown",
   "metadata": {},
   "source": [
    "## Funciones utiles"
   ]
  },
  {
   "cell_type": "code",
   "execution_count": 14,
   "metadata": {},
   "outputs": [
    {
     "data": {
      "text/html": [
       "'Untitled.ipynb'"
      ],
      "text/latex": [
       "'Untitled.ipynb'"
      ],
      "text/markdown": [
       "'Untitled.ipynb'"
      ],
      "text/plain": [
       "[1] \"Untitled.ipynb\""
      ]
     },
     "metadata": {},
     "output_type": "display_data"
    },
    {
     "data": {
      "text/html": [
       "'C:/Users/a.de.la.cruz/Documents/tallerR/Notas'"
      ],
      "text/latex": [
       "'C:/Users/a.de.la.cruz/Documents/tallerR/Notas'"
      ],
      "text/markdown": [
       "'C:/Users/a.de.la.cruz/Documents/tallerR/Notas'"
      ],
      "text/plain": [
       "[1] \"C:/Users/a.de.la.cruz/Documents/tallerR/Notas\""
      ]
     },
     "metadata": {},
     "output_type": "display_data"
    }
   ],
   "source": [
    "dir()\n",
    "\n",
    "getwd()\n",
    "\n",
    "setwd('C:/Users/a.de.la.cruz/Documents/tallerR/scripts')\n"
   ]
  },
  {
   "cell_type": "markdown",
   "metadata": {},
   "source": [
    "## DataFrame\n",
    "    Conjuntos de objetos de diferentes clases"
   ]
  },
  {
   "cell_type": "code",
   "execution_count": 13,
   "metadata": {
    "scrolled": false
   },
   "outputs": [
    {
     "data": {
      "text/html": [
       "'data.frame'"
      ],
      "text/latex": [
       "'data.frame'"
      ],
      "text/markdown": [
       "'data.frame'"
      ],
      "text/plain": [
       "[1] \"data.frame\""
      ]
     },
     "metadata": {},
     "output_type": "display_data"
    },
    {
     "name": "stdout",
     "output_type": "stream",
     "text": [
      "'data.frame':\t5 obs. of  2 variables:\n",
      " $ a: num  1 2 3 4 5\n",
      " $ b: Factor w/ 5 levels \"a\",\"b\",\"c\",\"d\",..: 1 2 3 4 5\n"
     ]
    },
    {
     "data": {
      "text/plain": [
       "a :  num [1:5] 1 2 3 4 5\n",
       "b :  Factor w/ 5 levels \"a\",\"b\",\"c\",\"d\",..: 1 2 3 4 5"
      ]
     },
     "metadata": {},
     "output_type": "display_data"
    },
    {
     "data": {
      "text/plain": [
       "       a     b    \n",
       " Min.   :1   a:1  \n",
       " 1st Qu.:2   b:1  \n",
       " Median :3   c:1  \n",
       " Mean   :3   d:1  \n",
       " 3rd Qu.:4   e:1  \n",
       " Max.   :5        "
      ]
     },
     "metadata": {},
     "output_type": "display_data"
    },
    {
     "data": {
      "text/html": [
       "<table>\n",
       "<thead><tr><th scope=col>a</th><th scope=col>b</th></tr></thead>\n",
       "<tbody>\n",
       "\t<tr><td>1</td><td>a</td></tr>\n",
       "\t<tr><td>2</td><td>b</td></tr>\n",
       "\t<tr><td>3</td><td>c</td></tr>\n",
       "\t<tr><td>4</td><td>d</td></tr>\n",
       "\t<tr><td>5</td><td>e</td></tr>\n",
       "</tbody>\n",
       "</table>\n"
      ],
      "text/latex": [
       "\\begin{tabular}{r|ll}\n",
       " a & b\\\\\n",
       "\\hline\n",
       "\t 1 & a\\\\\n",
       "\t 2 & b\\\\\n",
       "\t 3 & c\\\\\n",
       "\t 4 & d\\\\\n",
       "\t 5 & e\\\\\n",
       "\\end{tabular}\n"
      ],
      "text/markdown": [
       "\n",
       "a | b | \n",
       "|---|---|---|---|---|\n",
       "| 1 | a | \n",
       "| 2 | b | \n",
       "| 3 | c | \n",
       "| 4 | d | \n",
       "| 5 | e | \n",
       "\n",
       "\n"
      ],
      "text/plain": [
       "  a b\n",
       "1 1 a\n",
       "2 2 b\n",
       "3 3 c\n",
       "4 4 d\n",
       "5 5 e"
      ]
     },
     "metadata": {},
     "output_type": "display_data"
    }
   ],
   "source": [
    "a <- c (1,2,3,4,5)\n",
    "b <- c('a', 'b', 'c', 'd', 'e')\n",
    "\n",
    "df <- data.frame(a ,b)\n",
    "\n",
    "# Datos de df\n",
    "class(df)\n",
    "str(df)\n",
    "ls.str(df)\n",
    "summary(df)\n",
    "\n",
    "# Ejecutar Dataframe\n",
    "df"
   ]
  },
  {
   "cell_type": "markdown",
   "metadata": {},
   "source": [
    "## Numeros\n",
    "\n",
    "    - Para integer se debe especificar seguido de la letra R\n",
    "    "
   ]
  },
  {
   "cell_type": "markdown",
   "metadata": {},
   "source": [
    "## Vectores\n",
    "    - uso de la funcion factor()"
   ]
  },
  {
   "cell_type": "code",
   "execution_count": null,
   "metadata": {},
   "outputs": [],
   "source": []
  }
 ],
 "metadata": {
  "kernelspec": {
   "display_name": "R",
   "language": "R",
   "name": "ir"
  },
  "language_info": {
   "codemirror_mode": "r",
   "file_extension": ".r",
   "mimetype": "text/x-r-source",
   "name": "R",
   "pygments_lexer": "r",
   "version": "3.4.3"
  }
 },
 "nbformat": 4,
 "nbformat_minor": 2
}
